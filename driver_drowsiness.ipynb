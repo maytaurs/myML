{
  "cells": [
    {
      "cell_type": "code",
      "execution_count": null,
      "metadata": {
        "id": "KWbuzqgTmSJ5"
      },
      "outputs": [],
      "source": [
        "! pip install kaggle\n"
      ]
    },
    {
      "cell_type": "code",
      "execution_count": null,
      "metadata": {
        "id": "1d8mC8hXmXv4"
      },
      "outputs": [],
      "source": [
        "#from google.colab import drive\n",
        "#drive.mount('/content/drive')"
      ]
    },
    {
      "cell_type": "code",
      "execution_count": null,
      "metadata": {
        "id": "gzWqbVRKmnJ3"
      },
      "outputs": [],
      "source": [
        "! mkdir ~/.kaggle\n"
      ]
    },
    {
      "cell_type": "markdown",
      "metadata": {
        "id": "tmQriRLnmouf"
      },
      "source": []
    },
    {
      "cell_type": "markdown",
      "metadata": {
        "id": "9_DzDduWszF-"
      },
      "source": []
    },
    {
      "cell_type": "markdown",
      "metadata": {
        "id": "y5JFcb7iszDg"
      },
      "source": []
    },
    {
      "cell_type": "code",
      "execution_count": null,
      "metadata": {
        "id": "lls6YuyrmpUJ"
      },
      "outputs": [],
      "source": [
        "# the path to the json file , please upload a json file in yourgoogle drive\n",
        "!cp  ./kaggle.json  ~/.kaggle\n"
      ]
    },
    {
      "cell_type": "code",
      "execution_count": null,
      "metadata": {
        "id": "_y5zZau7m-U3"
      },
      "outputs": [],
      "source": [
        "! kaggle datasets download  ismailnasri20/driver-drowsiness-dataset-ddd\n"
      ]
    },
    {
      "cell_type": "code",
      "execution_count": null,
      "metadata": {
        "collapsed": true,
        "id": "0t0wL5xYnVhd"
      },
      "outputs": [],
      "source": [
        "! unzip  ./driver-drowsiness-dataset-ddd.zip"
      ]
    },
    {
      "cell_type": "code",
      "execution_count": null,
      "metadata": {
        "id": "WfkAVltooQPi"
      },
      "outputs": [],
      "source": [
        "# Imports here\n",
        "import numpy as np\n",
        "import torch\n",
        "from torch import nn\n",
        "from torch import optim\n",
        "from torchvision import  transforms, models , datasets\n",
        "from torch.utils.data import DataLoader , Dataset\n",
        "from tqdm import tqdm  # For progress bars\n",
        "from collections import OrderedDict\n",
        "from PIL import Image\n",
        "import json\n",
        "from collections import OrderedDict\n",
        "from sklearn.model_selection import KFold\n",
        "import os\n",
        "import numpy as np\n",
        "from collections import defaultdict"
      ]
    },
    {
      "cell_type": "code",
      "execution_count": null,
      "metadata": {
        "id": "IzCHQX7nr0Xd"
      },
      "outputs": [],
      "source": [
        "#for my specific device's GPU  adjust for other hardware as needed.\n",
        "\n",
        "print(torch.__version__)\n",
        "import torch\n",
        "\n",
        "if torch.backends.mps.is_available():\n",
        "    print(\"GPU is available.\")\n",
        "    device = torch.device('mps')\n",
        "else:\n",
        "    print(\"GPU is not available.\")\n",
        "    device = torch.device('cpu')\n",
        "\n",
        "\n",
        "\n",
        "\n"
      ]
    },
    {
      "cell_type": "code",
      "execution_count": null,
      "metadata": {
        "id": "3CHFAZlTkSLv"
      },
      "outputs": [],
      "source": [
        "#!pip install split-folders\n"
      ]
    },
    {
      "cell_type": "code",
      "execution_count": null,
      "metadata": {
        "id": "y0OQdymFPKWj"
      },
      "outputs": [],
      "source": [
        "# create a class for our data set to use dataloders\n",
        "class DriverDrowsinessDataset(Dataset):\n",
        "    def __init__(self, file_paths, labels, transform=None):\n",
        "        self.file_paths = file_paths\n",
        "        self.labels = labels\n",
        "        self.transform = transform\n",
        "\n",
        "    def __len__(self):\n",
        "        return len(self.file_paths)\n",
        "\n",
        "    def __getitem__(self, idx):\n",
        "        img_path = self.file_paths[idx]\n",
        "        label = self.labels[idx]\n",
        "        image = Image.open(img_path).convert('RGB')\n",
        "\n",
        "        if self.transform:\n",
        "            image = self.transform(image)\n",
        "\n",
        "        return image, label\n"
      ]
    },
    {
      "cell_type": "code",
      "execution_count": null,
      "metadata": {
        "id": "8MvicqK1kQ2e"
      },
      "outputs": [],
      "source": [
        " # delete later\n",
        "#import splitfolders\n",
        "\n",
        "#data_dir = '/content/Driver Drowsiness Dataset (DDD)'\n",
        "#output_dir = '/content/splitted_Data'\n",
        "#splitfolders.ratio(data_dir, output=output_dir, seed=1337, ratio=(0.8, 0.15, 0.05))"
      ]
    },
    {
      "cell_type": "code",
      "execution_count": null,
      "metadata": {
        "id": "CEoMYf0YhDTm"
      },
      "outputs": [],
      "source": [
        "# delete later\n",
        "#train_dir = \"/content/splitted_Data/train\"\n",
        "#test_dir = \"/content/splitted_Data/train\"\n",
        "#valid_dir = \"/content/splitted_Data/val\"\n",
        "\n"
      ]
    },
    {
      "cell_type": "code",
      "execution_count": null,
      "metadata": {
        "id": "9-UjW5OB52zH"
      },
      "outputs": [],
      "source": [
        "!wget http://dlib.net/files/shape_predictor_68_face_landmarks.dat.bz2\n",
        "!bzip2 -d shape_predictor_68_face_landmarks.dat.bz2\n"
      ]
    },
    {
      "cell_type": "code",
      "execution_count": null,
      "metadata": {
        "id": "VQQQ0Xa9PAbt"
      },
      "outputs": [],
      "source": [
        "!pip install mediapipe\n",
        "import cv2\n",
        "import matplotlib.pyplot as plt\n",
        "import os\n",
        "from collections import defaultdict\n",
        "import mediapipe as mp\n",
        "!pip install dlib\n",
        "import dlib\n",
        "\n",
        "base_folder = './Driver Drowsiness Dataset (DDD)'\n",
        "drowsy_folder = os.path.join(base_folder, 'Drowsy')\n",
        "non_drowsy_folder = os.path.join(base_folder, 'Non Drowsy')\n",
        "\n",
        "video_groups = defaultdict(list)\n",
        "\n",
        "folders = [drowsy_folder, non_drowsy_folder]\n",
        "labels_dict = {}\n",
        "\n",
        "for folder in folders:\n",
        "    label = 0 if 'Non Drowsy' in folder else 1\n",
        "    for img_name in os.listdir(folder):\n",
        "        video_id = img_name[0].lower()  # Convert starting letter to lowercase\n",
        "        # in the dataset all frames belonging to the same video start  with the same letter except for z which has 3 diffrent videos  za zb zc\n",
        "        if video_id == 'z' :\n",
        "            video_id = img_name[0:2].lower()\n",
        "        video_groups[video_id].append(os.path.join(folder, img_name))\n",
        "        labels_dict[os.path.join(folder, img_name)] = label\n",
        "\n",
        "# Load the face and eye detectors using Viola-Jones\n",
        "detector = dlib.get_frontal_face_detector()\n",
        "predictor = dlib.shape_predictor(\"shape_predictor_68_face_landmarks.dat\")  # Download this file!\n",
        "mp_drawing = mp.solutions.drawing_utils\n",
        "mp_face_mesh = mp.solutions.face_mesh\n",
        "\n",
        "# Function to process a single image\n",
        "def process_image(image_path):\n",
        "    img = cv2.imread(image_path)\n",
        "\n",
        "    with mp_face_mesh.FaceMesh(\n",
        "        static_image_mode=True,\n",
        "        max_num_faces=1,\n",
        "        refine_landmarks=True,\n",
        "        min_detection_confidence=0.5) as face_mesh:\n",
        "\n",
        "        # Convert the image to RGB (MediaPipe expects RGB input)\n",
        "        results = face_mesh.process(cv2.cvtColor(img, cv2.COLOR_BGR2RGB))\n",
        "\n",
        "        # Check if any faces were detected\n",
        "        if results.multi_face_landmarks:\n",
        "            for face_landmarks in results.multi_face_landmarks:\n",
        "                # Get eye landmarks (indices for left and right eye)\n",
        "                left_eye_landmarks = [33, 133, 159, 145, 158, 153, 144, 163, 7, 33, 160, 144, 159, 145, 133, 153, 158, 154, 157, 173, 33, 246, 161, 160, 159, 158, 157, 173]\n",
        "                right_eye_landmarks = [362, 382, 380, 374, 381, 373, 385, 386, 263, 249, 390, 373, 380, 374, 382, 385, 381, 387, 388, 466, 263, 466, 388, 387, 386, 385, 384, 398]\n",
        "\n",
        "                # Get eye region coordinates\n",
        "                left_eye_points = [(int(face_landmarks.landmark[idx].x * img.shape[1]),\n",
        "                                   int(face_landmarks.landmark[idx].y * img.shape[0]))\n",
        "                                  for idx in left_eye_landmarks]\n",
        "                right_eye_points = [(int(face_landmarks.landmark[idx].x * img.shape[1]),\n",
        "                                    int(face_landmarks.landmark[idx].y * img.shape[0]))\n",
        "                                   for idx in right_eye_landmarks]\n",
        "\n",
        "                # Draw circles or rectangles around eye regions (optional)\n",
        "                for point in left_eye_points + right_eye_points:\n",
        "                    cv2.circle(img, point, 2, (0, 255, 0), -1)  # Draw green circles\n",
        "\n",
        "    # Display the image with eye regions highlighted\n",
        "    plt.imshow(cv2.cvtColor(img, cv2.COLOR_BGR2RGB))\n",
        "    plt.title('Eye Regions Detected')\n",
        "    plt.show()\n",
        "for image_path in labels_dict.keys():  # Iterate through image paths in labels_dict\n",
        "    process_image(image_path)\n",
        "# sepreate test set\n",
        "video_group_keys = list(video_groups.keys())\n",
        "np.random.shuffle(video_group_keys)\n",
        "test_size = int(0.2 * len(video_group_keys))\n",
        "test_groups = video_group_keys[:test_size]\n",
        "train_val_groups = video_group_keys[test_size:]\n",
        "\n",
        "# Create file paths and labels for test set\n",
        "test_files = [file for group in test_groups for file in video_groups[group]]\n",
        "test_labels = [labels_dict[file] for file in test_files]\n",
        "\n",
        "\n",
        "k_folds = 5\n",
        "folds = [[] for _ in range(k_folds)]\n",
        "\n",
        "for idx, video_id in enumerate(train_val_groups):\n",
        "    folds[idx % k_folds].extend(video_groups[video_id])\n",
        "\n",
        "\n",
        "for fold_idx, fold_files in enumerate(folds, 1):\n",
        "    print(f\"Fold {fold_idx}\")\n",
        "    # print groups in each fold\n",
        "    starting_letters = []\n",
        "    for file in fold_files:\n",
        "      base_name = os.path.basename(file).lower()\n",
        "      if base_name[0]=='z':\n",
        "        starting_letters.append(base_name[0:2])\n",
        "      else:\n",
        "        starting_letters.append(base_name[0])\n",
        "\n",
        "    unique_starting_letters = sorted(set(starting_letters))\n",
        "    print(f\"Starting Letters: {unique_starting_letters}\")\n",
        "    print(f\"Total files in fold: {len(fold_files)}\")\n",
        "    print(\"-\" * 30)\n",
        "\n"
      ]
    },
    {
      "cell_type": "code",
      "execution_count": null,
      "metadata": {
        "id": "WMk1sMrck_CU"
      },
      "outputs": [],
      "source": [
        "data_transforms = {\n",
        "    'train': transforms.Compose([\n",
        "                transforms.RandomResizedCrop(224),\n",
        "                transforms.RandomHorizontalFlip(),\n",
        "                transforms.ToTensor(),\n",
        "                transforms.Normalize(mean=[0.485, 0.456, 0.406], std = [0.229, 0.224, 0.225])\n",
        "                ]),\n",
        "    'valid': transforms.Compose([transforms.Resize(255),\n",
        "                               transforms.CenterCrop(224),\n",
        "                                transforms.ToTensor(),\n",
        "                transforms.Normalize(mean=[0.485, 0.456, 0.406], std = [0.229, 0.224, 0.225])\n",
        "                              ]),\n",
        "    'test': transforms.Compose([transforms.Resize(255),\n",
        "                               transforms.CenterCrop(224),\n",
        "                                transforms.ToTensor(),\n",
        "                transforms.Normalize(mean=[0.485, 0.456, 0.406], std = [0.229, 0.224, 0.225])\n",
        "                              ])\n",
        "\n",
        "}\n",
        "'''\n",
        "# TODO: Load the datasets with ImageFolder\n",
        "image_datasets = {\n",
        "    'train': datasets.ImageFolder(train_dir,transform = data_transforms['train']),\n",
        "    'valid': datasets.ImageFolder(valid_dir,transform = data_transforms['valid']),\n",
        "    'test':datasets.ImageFolder(test_dir,transform= data_transforms['test'])\n",
        "\n",
        "}\n",
        "\n",
        "# TODO: Using the image datasets and the trainforms, define the dataloaders\n",
        "dataloaders ={'train': DataLoader(image_datasets['train'], batch_size=32, shuffle=True),\n",
        "    'valid': DataLoader(image_datasets['valid'], batch_size=32, shuffle=True),\n",
        "    'test': DataLoader(image_datasets['test'], batch_size=32, shuffle=True)\n",
        "}\n",
        "'''"
      ]
    },
    {
      "cell_type": "code",
      "execution_count": null,
      "metadata": {
        "id": "iLHb95j5Qn0a"
      },
      "outputs": [],
      "source": []
    },
    {
      "cell_type": "code",
      "execution_count": null,
      "metadata": {
        "id": "89_w2ayNoUDf"
      },
      "outputs": [],
      "source": [
        "model = models.resnet50(pretrained=True)\n",
        "print(model)\n",
        "\n"
      ]
    },
    {
      "cell_type": "code",
      "execution_count": null,
      "metadata": {
        "id": "N2sRQze9gt-v"
      },
      "outputs": [],
      "source": []
    },
    {
      "cell_type": "code",
      "execution_count": null,
      "metadata": {
        "id": "jmJ7HL0uoipD"
      },
      "outputs": [],
      "source": [
        "# freeze paramters\n",
        "for param in model.parameters():\n",
        "    param.requires_grad = False"
      ]
    },
    {
      "cell_type": "code",
      "execution_count": null,
      "metadata": {
        "id": "wjd_3RQSol3W"
      },
      "outputs": [],
      "source": [
        "# this just a base code we can change the number of nodes and layers\n",
        "fc = nn.Sequential(OrderedDict([\n",
        "    ('fc1',nn.Linear(2048,512,bias=True)),\n",
        "    ('relu' ,nn.ReLU()),\n",
        "    ('dropout',nn.Dropout(0.2)),\n",
        "    ('f2', nn.Linear(512,512,bias=True)),\n",
        "    ('dropout',nn.Dropout(0.2)),\n",
        "    ('f3', nn.Linear(512,1,bias=True)),]))\n",
        "model.fc = fc"
      ]
    },
    {
      "cell_type": "code",
      "execution_count": null,
      "metadata": {
        "id": "6wi3rchpfxxf"
      },
      "outputs": [],
      "source": []
    },
    {
      "cell_type": "code",
      "execution_count": null,
      "metadata": {
        "id": "jrymuH1ir2yt"
      },
      "outputs": [],
      "source": [
        "\n",
        "def train_model(model, trainloader, validloader, criterion, optimizer, num_epochs=20, print_every=2, device='cpu'):\n",
        "\n",
        "    for e in range(num_epochs):\n",
        "\n",
        "        # Training Phase\n",
        "        train_accuracy = 0\n",
        "        running_loss = 0\n",
        "        model.train()\n",
        "\n",
        "        for images, labels in tqdm(trainloader):\n",
        "            images, labels = images.to(device), labels.to(device)\n",
        "\n",
        "            optimizer.zero_grad()\n",
        "            log_ps = model(images)  # Forward pass (raw logits)\n",
        "            loss = criterion(log_ps, labels.view(-1, 1).float())  # Calculate loss\n",
        "            loss.backward()  # Backpropagation\n",
        "            optimizer.step()\n",
        "\n",
        "            running_loss += loss.item()\n",
        "\n",
        "            # Calculate accuracy for training\n",
        "            with torch.no_grad():\n",
        "                ps = torch.sigmoid(log_ps)\n",
        "                top_class = ps >= 0.5  # Threshold of 0.5 for binary classification (1 or 0)\n",
        "                equals = top_class == labels.view(*top_class.shape)  #\n",
        "                train_accuracy += torch.mean(equals.type(torch.FloatTensor)).item()\n",
        "\n",
        "        # Print average losses and validation accuracy at specified intervals\n",
        "        if (e + 1) % print_every == 0:\n",
        "            test_loss = 0\n",
        "            valid_accuracy = 0\n",
        "            model.eval()  # Set to evaluation mode\n",
        "            with torch.no_grad():  # Disable gradient computation during validation\n",
        "                for inputs, labels in tqdm(validloader):\n",
        "                    inputs, labels = inputs.to(device), labels.to(device)\n",
        "                    log_ps = model(inputs)  # Forward pass (raw logits)\n",
        "                    batch_loss = criterion(log_ps, labels.view(-1, 1).float())\n",
        "                    test_loss += batch_loss.item()\n",
        "\n",
        "                    # Calculate accuracy for validation\n",
        "                    ps = torch.sigmoid(log_ps)  # Apply sigmoid for thresholding\n",
        "                    top_class = ps >= 0.5  # Use threshold of 0.5 for classification\n",
        "                    equals = top_class == labels.view(*top_class.shape)\n",
        "                    valid_accuracy += torch.mean(equals.type(torch.FloatTensor)).item()\n",
        "\n",
        "            # Print training and validation statistics\n",
        "            print(f\"Epoch {e+1}/{num_epochs}.. \"\n",
        "                  f\"Train loss: {running_loss/len(trainloader):.3f}.. \"\n",
        "                  f\"Training accuracy: {train_accuracy/len(trainloader):.3f}.. \"\n",
        "                  f\"Validation loss: {test_loss/len(validloader):.3f}.. \"\n",
        "                  f\"Validation accuracy: {valid_accuracy/len(validloader):.3f}\")\n",
        "\n",
        "            # Reset variables for next epoch\n",
        "            running_loss = 0\n",
        "            train_accuracy = 0\n",
        "\n",
        "            model.train()  # Switch back to training mode\n",
        "\n",
        "    return model, test_loss , valid_accuracy\n",
        "\n"
      ]
    },
    {
      "cell_type": "code",
      "execution_count": null,
      "metadata": {
        "id": "XTzBybKEnVET"
      },
      "outputs": [],
      "source": []
    },
    {
      "cell_type": "markdown",
      "metadata": {
        "id": "Hyr0vhHQROYg"
      },
      "source": []
    },
    {
      "cell_type": "code",
      "execution_count": null,
      "metadata": {
        "id": "0uXs5Y2TsADD"
      },
      "outputs": [],
      "source": [
        "all_fold_val_losses = []\n",
        "all_fold_val_accuracies = []\n",
        "\n",
        "# Cross-validation loop\n",
        "for fold_idx in range(k_folds):\n",
        "    print\n",
        "    val_files = folds[fold_idx]\n",
        "    train_files = []\n",
        "    for idx  in range(len(folds)):\n",
        "      if idx != fold_idx:\n",
        "          for file in folds[idx]:\n",
        "            train_files.append(file)\n",
        "\n",
        "    val_labels = [labels_dict[file] for file in val_files]\n",
        "    train_labels = [labels_dict[file] for file in train_files]\n",
        "\n",
        "    train_dataset = DriverDrowsinessDataset(train_files, train_labels, transform = data_transforms['train'])\n",
        "    val_dataset = DriverDrowsinessDataset(val_files, val_labels, transform = data_transforms['valid'])\n",
        "    train_loader = DataLoader(train_dataset, batch_size=32, shuffle=True,drop_last = True)\n",
        "    val_loader = DataLoader(val_dataset, batch_size=32, shuffle=True,drop_last = True)\n",
        "    criterion =  nn.BCEWithLogitsLoss()\n",
        "    model.to(device)\n",
        "    optimizer = optim.Adam(fc.parameters(), lr=0.003)\n",
        "    trained_model, valid_loss, valid_accuracy  = train_model(model, train_loader ,val_loader, criterion, optimizer, num_epochs=20 ,device = device)\n",
        "    all_fold_val_losses.append(valid_loss)\n",
        "    all_fold_val_accuracies.append(valid_accuracy)\n",
        "\n",
        "\n",
        "\n",
        "\n",
        "\n"
      ]
    },
    {
      "source": [
        "!pip install opencv-python # Install OpenCV."
      ],
      "cell_type": "code",
      "metadata": {
        "id": "lbSsGPvNgeHl"
      },
      "execution_count": null,
      "outputs": []
    },
    {
      "source": [
        "import cv2\n",
        "\n",
        "def detect_eyes(image_path):\n",
        "  \"\"\"Detects eyes in an image using Viola-Jones.\"\"\"\n",
        "  eye_cascade = cv2.CascadeClassifier(cv2.data.haarcascades + 'haarcascade_eye.xml')  # Use eye cascade\n",
        "  img = cv2.imread(image_path)\n",
        "  gray = cv2.cvtColor(img, cv2.COLOR_BGR2GRAY)\n",
        "  eyes = eye_cascade.detectMultiScale(gray, 1.1, 4)\n",
        "\n",
        "  if len(eyes) > 0:\n",
        "    (x, y, w, h) = eyes[0]  # Get bounding box of the first detected eye\n",
        "    eye_img = img[y:y + h, x:x + w]\n",
        "    return eye_img\n",
        "  else:\n",
        "    return None"
      ],
      "cell_type": "code",
      "metadata": {
        "id": "Slwa-wn9hrYA"
      },
      "execution_count": null,
      "outputs": []
    },
    {
      "source": [
        "class DriverDrowsinessDataset(Dataset):\n",
        "    # ... (Existing code) ...\n",
        "\n",
        "    def __getitem__(self, idx):\n",
        "        img_path = self.file_paths[idx]\n",
        "        label = self.labels[idx]\n",
        "\n",
        "        # Detect eyes using Viola-Jones\n",
        "        eye_img = detect_eyes(img_path)\n",
        "\n",
        "        if eye_img is not None:\n",
        "            image = Image.fromarray(eye_img).convert('RGB')  # Convert to PIL Image\n",
        "\n",
        "            if self.transform:\n",
        "                image = self.transform(image)\n",
        "\n",
        "            return image, label\n",
        "        else:\n",
        "            # Handle cases where no eyes are detected (e.g., skip the image)\n",
        "            # You can raise an exception, return a default image, or remove the image from the dataset.\n",
        "            raise Exception(f\"No eyes detected in image: {img_path}\")"
      ],
      "cell_type": "code",
      "metadata": {
        "id": "ID3x1IRihsQt"
      },
      "execution_count": null,
      "outputs": []
    },
    {
      "source": [
        "import matplotlib.pyplot as plt"
      ],
      "cell_type": "code",
      "metadata": {
        "id": "9gmBnNvciIWk"
      },
      "execution_count": null,
      "outputs": []
    },
    {
      "source": [
        "def visualize_eye_detection(image_path):\n",
        "    \"\"\"Visualizes eye detection on an image.\"\"\"\n",
        "    img = cv2.imread(image_path)\n",
        "\n",
        "    # Check if image was loaded successfully\n",
        "    if img is None:\n",
        "        print(f\"Error: Could not load image at path: {image_path}\")\n",
        "        return  # Exit the function if image loading failed\n",
        "\n",
        "    gray = cv2.cvtColor(img, cv2.COLOR_BGR2GRAY)\n",
        "    eyes = eye_cascade.detectMultiScale(gray, 1.1, 4)\n",
        "\n",
        "    for (x, y, w, h) in eyes:\n",
        "        cv2.rectangle(img, (x, y), (x + w, y + h), (255, 0, 0), 2)  # Draw rectangle around eyes\n",
        "\n",
        "    plt.imshow(cv2.cvtColor(img, cv2.COLOR_BGR2RGB))  # Convert to RGB for display\n",
        "    plt.title('Eye Detection')\n",
        "    plt.show()"
      ],
      "cell_type": "code",
      "metadata": {
        "id": "jr3tri0siI56"
      },
      "execution_count": null,
      "outputs": []
    },
    {
      "source": [
        "import cv2\n",
        "import matplotlib.pyplot as plt\n",
        "import os\n",
        "import numpy as np\n",
        "\n",
        "# Define eye_cascade outside the functions so it's globally accessible\n",
        "eye_cascade_path = cv2.data.haarcascades + 'haarcascade_eye.xml'\n",
        "\n",
        "# Check if the cascade file exists\n",
        "if not os.path.exists(eye_cascade_path):\n",
        "    print(f\"Error: Cascade file not found at {eye_cascade_path}\")\n",
        "else:\n",
        "    print(f\"Cascade file found at {eye_cascade_path}\")\n",
        "\n",
        "eye_cascade = cv2.CascadeClassifier(eye_cascade_path)\n",
        "\n",
        "# Check if the cascade was loaded successfully\n",
        "if eye_cascade.empty():\n",
        "    print(\"Error: Could not load eye cascade classifier.\")\n",
        "else:\n",
        "    print(\"Eye cascade classifier loaded successfully.\")\n",
        "\n",
        "def visualize_eye_detection(image_path, eye_cascade):  # Pass eye_cascade as an argument\n",
        "    \"\"\"Visualizes eye detection on an image.\"\"\"\n",
        "    # Print the image path to verify correctness\n",
        "    print(f\"Attempting to load image from: {image_path}\")\n",
        "\n",
        "    # Load the image\n",
        "    img = cv2.imread(image_path)  # Assign value to img\n",
        "\n",
        "    # Check if image was loaded successfully\n",
        "    if img is None:\n",
        "        print(f\"Error: Could not load image at path: {image_path}\")\n",
        "        return  # Exit the function if image loading failed\n",
        "\n",
        "    # Convert to grayscale\n",
        "    gray = cv2.cvtColor(img, cv2.COLOR_BGR2GRAY)  # Assign value to gray\n",
        "\n",
        "    # Detect eyes with adjusted parameters\n",
        "    eyes = eye_cascade.detectMultiScale(gray, scaleFactor=1.3, minNeighbors=5, minSize=(30, 30))\n",
        "\n",
        "    # Print the number of detected eyes\n",
        "    print(f\"Number of detected eyes: {len(eyes)}\")\n",
        "\n",
        "    # Draw rectangles around the detected eyes\n",
        "    for (x, y, w, h) in eyes:\n",
        "        cv2.rectangle(img, (x, y), (x + w, y + h), (0, 255, 0), 2)\n",
        "\n",
        "    # Display the image with detected eyes\n",
        "    plt.imshow(cv2.cvtColor(img, cv2.COLOR_BGR2RGB))\n",
        "    plt.title(\"Eye Detection\")\n",
        "    plt.show()\n",
        "\n",
        "\n"
      ],
      "cell_type": "code",
      "metadata": {
        "id": "fk5vIkGYoPLJ"
      },
      "execution_count": null,
      "outputs": []
    },
    {
      "source": [
        "import cv2\n",
        "import numpy as np\n",
        "import matplotlib.pyplot as plt\n",
        "\n",
        "# Load the eye cascade classifier\n",
        "eye_cascade = cv2.CascadeClassifier(cv2.data.haarcascades + 'haarcascade_eye.xml')\n",
        "\n",
        "# Check if the cascade was loaded successfully\n",
        "if eye_cascade.empty():\n",
        "    print(\"Error: Could not load eye cascade classifier.\")\n",
        "else:\n",
        "    print(\"Eye cascade classifier loaded successfully.\")\n",
        "\n",
        "    try:\n",
        "        # Get the features from the cascade\n",
        "        features = eye_cascade.getOriginalWindowSize()\n",
        "        num_features = eye_cascade.getFeatureType()\n",
        "\n",
        "        # Create a blank image to visualize the features\n",
        "        feature_img = np.zeros((features[1], features[0], 3), dtype=np.uint8)\n",
        "\n",
        "        # Draw the features on the image\n",
        "        for i in range(num_features):\n",
        "            # Get the feature's rectangle and weight\n",
        "            rect = eye_cascade.getFeatureParams(i)\n",
        "            weight = rect[4]\n",
        "\n",
        "            # Draw the rectangle with color based on weight\n",
        "            color = (255, 255, 255) if weight > 0 else (0, 0, 0)\n",
        "            cv2.rectangle(feature_img, (int(rect[0]), int(rect[1])),\n",
        "                          (int(rect[0] + rect[2]), int(rect[1] + rect[3])),\n",
        "                          color, -1)\n",
        "\n",
        "        # Display the feature image\n",
        "        plt.imshow(feature_img)\n",
        "        plt.title('Haar-like Features for Eye Detection')\n",
        "        plt.show()\n",
        "\n",
        "    except Exception as e:\n",
        "        print(f\"Error visualizing features: {e}\")"
      ],
      "cell_type": "code",
      "metadata": {
        "id": "mpPu7otAqvpM"
      },
      "execution_count": null,
      "outputs": []
    },
    {
      "source": [
        "import cv2\n",
        "import matplotlib.pyplot as plt\n",
        "\n",
        "# Load the pre-trained face detection model\n",
        "face_cascade = cv2.CascadeClassifier(cv2.data.haarcascades + 'haarcascade_frontalface_default.xml')\n",
        "eye_cascade = cv2.CascadeClassifier(cv2.data.haarcascades + 'haarcascade_eye.xml')\n",
        "# Load the image\n",
        "image_path = './Driver Drowsiness Dataset (DDD)/Non Drowsy/y0998.png'  # Replace with your image path\n",
        "img = cv2.imread(image_path)\n",
        "\n",
        "# Convert to grayscale\n",
        "gray = cv2.cvtColor(img, cv2.COLOR_BGR2GRAY)\n",
        "\n",
        "# Detect faces\n",
        "faces = face_cascade.detectMultiScale(gray, 1.1, 4)\n",
        "\n",
        "# Draw rectangles around the detected faces\n",
        "for (x, y, w, h) in faces:\n",
        "    cv2.rectangle(img, (x, y), (x + w, y + h), (255, 0, 0), 2)\n",
        "    roi_gray = gray[y:y + h, x:x + w]  # Region of Interest (ROI) for eyes within the face\n",
        "    roi_color = img[y:y + h, x:x + w]  # ROI in color for drawing eye rectangles\n",
        "\n",
        "    # Detect eyes within the face ROI\n",
        "    eyes = eye_cascade.detectMultiScale(roi_gray)\n",
        "\n",
        "    # Draw rectangles around the detected eyes\n",
        "    for (ex, ey, ew, eh) in eyes:\n",
        "        cv2.rectangle(roi_color, (ex, ey), (ex + ew, ey + eh), (0, 255, 0), 2)  # Draw eye rectangle\n",
        "\n",
        "# Display the image with detected faces and eyes\n",
        "plt.imshow(cv2.cvtColor(img, cv2.COLOR_BGR2RGB))\n",
        "plt.title('Face and Eye Detection')\n",
        "# Display the image with detected faces\n"
      ],
      "cell_type": "code",
      "metadata": {
        "id": "WXz4mDw2q9KQ"
      },
      "execution_count": null,
      "outputs": []
    },
    {
      "source": [
        "\n",
        "import cv2\n",
        "import matplotlib.pyplot as plt\n",
        "import os\n",
        "import ipywidgets as widgets\n",
        "from IPython.display import display\n",
        "\n",
        "# Load the pre-trained face detection model\n",
        "face_cascade = cv2.CascadeClassifier(cv2.data.haarcascades + 'haarcascade_frontalface_default.xml')\n",
        "eye_cascade = cv2.CascadeClassifier(cv2.data.haarcascades + 'haarcascade_eye.xml')\n",
        "\n",
        "# Function to handle uploaded file\n",
        "def handle_upload(change):\n",
        "    global image_path, img  # Declare image_path and img as global\n",
        "    uploaded_filename = next(iter(uploader.value))\n",
        "    content = uploader.value[uploaded_filename]['content']\n",
        "    with open(uploaded_filename, 'wb') as f:\n",
        "        f.write(content)\n",
        "    image_path = uploaded_filename\n",
        "    img = cv2.imread(image_path)\n",
        "    process_image()\n",
        "\n",
        "# Function to process the image\n",
        "def process_image():\n",
        "    global img\n",
        "    if img is not None:\n",
        "        # Convert to grayscale\n",
        "        gray = cv2.cvtColor(img, cv2.COLOR_BGR2GRAY)\n",
        "\n",
        "        # Detect faces\n",
        "        faces = face_cascade.detectMultiScale(gray, 1.1, 4)\n",
        "\n",
        "        # Draw rectangles around the detected faces\n",
        "        for (x, y, w, h) in faces:\n",
        "            cv2.rectangle(img, (x, y), (x + w, y + h), (255, 0, 0), 2)\n",
        "            roi_gray = gray[y:y + h, x:x + w]  # Region of Interest (ROI) for eyes within the face\n",
        "            roi_color = img[y:y + h, x:x + w]  # ROI in color for drawing eye rectangles\n",
        "\n",
        "            # Detect eyes within the face ROI\n",
        "            eyes = eye_cascade.detectMultiScale(roi_gray)\n",
        "\n",
        "            # Draw rectangles around the detected eyes\n",
        "            for (ex, ey, ew, eh) in eyes:\n",
        "                cv2.rectangle(roi_color, (ex, ey), (ex + ew, ey + eh), (0, 255, 0), 2)  # Draw eye rectangle\n",
        "\n",
        "        # Display the image with detected faces and eyes\n",
        "        plt.imshow(cv2.cvtColor(img, cv2.COLOR_BGR2RGB))\n",
        "        plt.title('Face and Eye Detection')\n",
        "        plt.show()\n",
        "    else:\n",
        "        print(f\"Error: Could not load image at path: {image_path}\")\n",
        "\n",
        "# Create an upload widget\n",
        "uploader = widgets.FileUpload(\n",
        "    accept='image/*',  # Accept only image files\n",
        "    multiple=False  # Allow only one file to be uploaded\n",
        ")\n",
        "\n",
        "# Observe changes in the upload widget\n",
        "uploader.observe(handle_upload, names='value')\n",
        "\n",
        "# Display the upload widget\n",
        "display(uploader)"
      ],
      "cell_type": "code",
      "metadata": {
        "id": "kKCNqICH9OeR"
      },
      "execution_count": null,
      "outputs": []
    },
    {
      "source": [
        "!pip install mediapipe\n",
        "\n",
        "import cv2\n",
        "import mediapipe as mp\n",
        "import matplotlib.pyplot as plt\n",
        "\n",
        "# Initialize MediaPipe Face Mesh\n",
        "mp_face_mesh = mp.solutions.face_mesh\n",
        "face_mesh = mp_face_mesh.FaceMesh(static_image_mode=True, max_num_faces=1, min_detection_confidence=0.5)\n",
        "\n",
        "# Load the image\n",
        "image_path = './Driver Drowsiness Dataset (DDD)/Non Drowsy/y0998.png'  # Replace with your image path\n",
        "img = cv2.imread(image_path)\n",
        "\n",
        "# Convert to RGB (MediaPipe expects RGB input)\n",
        "results = face_mesh.process(cv2.cvtColor(img, cv2.COLOR_BGR2RGB))\n",
        "\n",
        "# Check if face is detected\n",
        "!pip install mediapipe\n",
        "\n",
        "import cv2\n",
        "import mediapipe as mp\n",
        "import matplotlib.pyplot as plt\n",
        "\n",
        "# Initialize MediaPipe Face Mesh\n",
        "mp_face_mesh = mp.solutions.face_mesh\n",
        "face_mesh = mp_face_mesh.FaceMesh(static_image_mode=True, max_num_faces=1, min_detection_confidence=0.5)\n",
        "\n",
        "# Load the image\n",
        "image_path = './Driver Drowsiness Dataset (DDD)/Non Drowsy/y0998.png'  # Replace with your image path\n",
        "img = cv2.imread(image_path)\n",
        "\n",
        "# Convert to RGB (MediaPipe expects RGB input)\n",
        "results = face_mesh.process(cv2.cvtColor(img, cv2.COLOR_BGR2RGB))\n",
        "\n",
        "# Check if face is detected\n",
        "if results.multi_face_landmarks:\n",
        "    for face_landmarks in results.multi_face_landmarks:\n",
        "        pass"
      ],
      "cell_type": "code",
      "metadata": {
        "id": "0VaJObcarQyg"
      },
      "execution_count": null,
      "outputs": []
    },
    {
      "source": [
        "!pip install mediapipe\n",
        "\n",
        "import cv2\n",
        "import mediapipe as mp\n",
        "import matplotlib.pyplot as plt\n",
        "\n",
        "# Initialize MediaPipe Face Mesh\n",
        "mp_face_mesh = mp.solutions.face_mesh\n",
        "face_mesh = mp_face_mesh.FaceMesh(static_image_mode=True, max_num_faces=1, min_detection_confidence=0.5)\n",
        "\n",
        "# Load the image\n",
        "image_path = './Driver Drowsiness Dataset (DDD)/Non Drowsy/y0998.png'  # Replace with your image path\n",
        "img = cv2.imread(image_path)\n",
        "\n",
        "# Convert to RGB (MediaPipe expects RGB input)\n",
        "results = face_mesh.process(cv2.cvtColor(img, cv2.COLOR_BGR2RGB))\n",
        "\n",
        "#"
      ],
      "cell_type": "code",
      "metadata": {
        "id": "ML8OPKWzr0xZ"
      },
      "execution_count": null,
      "outputs": []
    },
    {
      "source": [
        "%matplotlib inline"
      ],
      "cell_type": "code",
      "metadata": {
        "id": "9l9DDCv6sSLz"
      },
      "execution_count": null,
      "outputs": []
    },
    {
      "cell_type": "code",
      "execution_count": null,
      "metadata": {
        "id": "T-0UjvxjagMR"
      },
      "outputs": [],
      "source": []
    },
    {
      "source": [
        "!pip install mediapipe opencv-python\n",
        "import cv2\n",
        "import mediapipe as mp\n",
        "from google.colab.patches import cv2_imshow  # Import cv2_imshow for Google Colab\n",
        "\n",
        "mp_drawing = mp.solutions.drawing_utils\n",
        "mp_face_mesh = mp.solutions.face_mesh\n",
        "\n",
        "# Load the image\n",
        "img = cv2.imread('Driver Drowsiness Dataset (DDD)/Non Drowsy/y0955.png')  # Replace 'photo.jpg' with your image path\n",
        "\n",
        "# Check if the image was loaded successfully\n",
        "if img is None:\n",
        "    print(\"Error: Could not load image. Please check the image path and file existence.\")\n",
        "else:\n",
        "    # Process the image with MediaPipe Face Mesh\n",
        "    with mp_face_mesh.FaceMesh(\n",
        "        static_image_mode=True,\n",
        "        max_num_faces=1,\n",
        "        refine_landmarks=True,\n",
        "        min_detection_confidence=0.5) as face_mesh:\n",
        "\n",
        "        # Convert the image to RGB (MediaPipe expects RGB input)\n",
        "        results = face_mesh.process(cv2.cvtColor(img, cv2.COLOR_BGR2RGB))\n",
        "\n",
        "        # Check if any faces were detected\n",
        "        if results.multi_face_landmarks:\n",
        "            for face_landmarks in results.multi_face_landmarks:\n",
        "                # Draw the face mesh landmarks on the image\n",
        "                mp_drawing.draw_landmarks(\n",
        "                    image=img,\n",
        "                    landmark_list=face_landmarks,\n",
        "                    connections=mp_face_mesh.FACEMESH_TESSELATION,\n",
        "                    landmark_drawing_spec=None,\n",
        "                    connection_drawing_spec=mp_drawing.DrawingSpec(\n",
        "                        color=(0, 255, 0), thickness=1, circle_radius=1\n",
        "                    ),\n",
        "                )\n",
        "\n",
        "    # Display the image with the detected eye landmarks\n",
        "    cv2_imshow(img)  # Use cv2_imshow instead of cv2.imshow in Google Colab\n",
        "    cv2.waitKey(0)\n",
        "    cv2.destroyAllWindows()\n",
        "\n",
        "    # Save the image (optional)\n",
        "    output_path = \"eye_detection_output.png\"\n",
        "    cv2.imwrite(output_path, img)\n",
        "    print(f\"Image saved to: {output_path}\")"
      ],
      "cell_type": "code",
      "metadata": {
        "id": "HGel_YoOuO1a"
      },
      "execution_count": null,
      "outputs": []
    },
    {
      "source": [
        "!pip install mediapipe opencv-python\n",
        "import cv2\n",
        "import mediapipe as mp\n",
        "from google.colab.patches import cv2_imshow  # Import cv2_imshow for Google Colab\n",
        "\n",
        "mp_drawing = mp.solutions.drawing_utils\n",
        "mp_face_mesh = mp.solutions.face_mesh\n",
        "\n",
        "# Load the image\n",
        "img = cv2.imread('Driver Drowsiness Dataset (DDD)/Non Drowsy/y0955.png')  # Replace 'photo.jpg' with your image path\n",
        "\n",
        "# Check if the image was loaded successfully\n",
        "if img is None:\n",
        "    print(\"Error: Could not load image. Please check the image path and file existence.\")\n",
        "else:\n",
        "    # Process the image with MediaPipe Face Mesh\n",
        "    with mp_face_mesh.FaceMesh(\n",
        "        static_image_mode=True,\n",
        "        max_num_faces=1,\n",
        "        refine_landmarks=True,\n",
        "        min_detection_confidence=0.5) as face_mesh:\n",
        "\n",
        "        # Convert the image to RGB (MediaPipe expects RGB input)\n",
        "        results = face_mesh.process(cv2.cvtColor(img, cv2.COLOR_BGR2RGB))\n",
        "\n",
        "        # Check if any faces were detected\n",
        "        if results.multi_face_landmarks:\n",
        "            for face_landmarks in results.multi_face_landmarks:\n",
        "                # Get eye landmarks (indices for left and right eye)\n",
        "                left_eye_landmarks = [466, 475, 477, 474, 476] # adjust landmarks as needed\n",
        "                right_eye_landmarks = [130, 145, 155, 153, 159]  # adjust landmarks as needed\n",
        "\n",
        "                # Get eye region coordinates\n",
        "                left_eye_points = [(int(face_landmarks.landmark[idx].x * img.shape[1]),\n",
        "                                   int(face_landmarks.landmark[idx].y * img.shape[0]))\n",
        "                                  for idx in left_eye_landmarks]\n",
        "                right_eye_points"
      ],
      "cell_type": "code",
      "metadata": {
        "id": "550BgXSrvUZB"
      },
      "execution_count": null,
      "outputs": []
    },
    {
      "source": [
        "!pip install mediapipe opencv-python matplotlib\n",
        "import cv2\n",
        "import mediapipe as mp\n",
        "import matplotlib.pyplot as plt\n",
        "\n",
        "mp_drawing = mp.solutions.drawing_utils\n",
        "mp_face_mesh = mp.solutions.face_mesh\n",
        "\n",
        "# Load the image\n",
        "img = cv2.imread('Driver Drowsiness Dataset (DDD)/Non Drowsy/y0955.png')\n",
        "\n",
        "# Check if the image was loaded successfully\n",
        "if img is None:\n",
        "    print(\"Error: Could not load image. Please check the image path and file existence.\")\n",
        "else:\n",
        "    # Process the image with MediaPipe Face Mesh\n",
        "    with mp_face_mesh.FaceMesh(\n",
        "        static_image_mode=True,\n",
        "        max_num_faces=1,\n",
        "        refine_landmarks=True,\n",
        "        min_detection_confidence=0.5) as face_mesh:\n",
        "\n",
        "        # Convert the image to RGB (MediaPipe expects RGB input)\n",
        "        results = face_mesh.process(cv2.cvtColor(img, cv2.COLOR_BGR2RGB))\n",
        "\n",
        "        # Check if any faces were detected\n",
        "        if results.multi_face_landmarks:\n",
        "            for face_landmarks in results.multi_face_landmarks:\n",
        "                # Get eye landmarks (indices for left and right eye)\n",
        "                left_eye_landmarks = [466, 475, 477, 474, 476]  # Adjust landmarks as needed\n",
        "                right_eye_landmarks = [130, 145, 155, 153, 159]  # Adjust landmarks as needed\n",
        "\n",
        "                # Get eye region coordinates\n",
        "                left_eye_points = [(int(face_landmarks.landmark[idx].x * img.shape[1]),\n",
        "                                   int(face_landmarks.landmark[idx].y * img.shape[0]))\n",
        "                                  for idx in left_eye_landmarks]\n",
        "                right_eye_points = [(int(face_landmarks.landmark[idx].x * img.shape[1]),\n",
        "                                    int(face_landmarks.landmark[idx].y * img.shape[0]))\n",
        "                                   for idx in right_eye_landmarks]\n",
        "\n",
        "                # Visualize detected eyes on the original image\n",
        "                for point in left_eye_points + right_eye_points:\n",
        "                    cv2.circle(img, point, 2, (0, 0, 255), -1)  # Draw red circles on eye landmarks\n",
        "\n",
        "                # Crop and display the eyes\n",
        "                # Left eye\n",
        "                x_min_left = min(p[0] for p in left_eye_points)\n",
        "                x_max_left = max(p[0] for p in left_eye_points)\n",
        "                y_min_left = min(p[1] for p in left_eye_points)\n",
        "                y_max_left = max(p[1] for p in left_eye_points)\n",
        "                left_eye_img = img[y_min_left:y_max_left, x_min_left:x_max_left]\n",
        "\n",
        "                # Right eye\n",
        "                x_min_right = min(p[0] for p in right_eye_points)\n",
        "                x_max_right = max(p[0] for p in right_eye_points)\n",
        "                y_min_right = min(p[1] for p in right_eye_points)\n",
        "                y_max_right = max(p[1] for p in right_eye_points)\n",
        "                right_eye_img = img[y_min_right:y_max_right, x_min_right:x_max_right]\n",
        "\n",
        "                # Display the images using Matplotlib\n",
        "                plt.figure(figsize=(10, 5))\n",
        "\n",
        "                plt.subplot(1, 3, 1)\n",
        "                plt.imshow(cv2.cvtColor(img, cv2.COLOR_BGR2RGB))  # Original image with eye landmarks\n",
        "                plt.title(\"Original Image\")\n",
        "\n",
        "                plt.subplot(1, 3, 2)\n",
        "                plt.imshow(cv2.cvtColor(left_eye_img, cv2.COLOR_BGR2RGB))  # Cropped left eye\n",
        "                plt.title(\"Left Eye\")\n",
        "\n",
        "                plt.subplot(1, 3, 3)\n",
        "                plt.imshow(cv2.cvtColor(right_eye_img, cv2.COLOR_BGR2RGB))  # Cropped right eye"
      ],
      "cell_type": "code",
      "metadata": {
        "id": "y5knlPWSwc0l"
      },
      "execution_count": null,
      "outputs": []
    },
    {
      "cell_type": "code",
      "execution_count": null,
      "metadata": {
        "id": "6VmnlOhzgXNZ"
      },
      "outputs": [],
      "source": [
        "def test_model(model, testloader, criterion):\n",
        "    model.eval()  # Set model to evaluation mode\n",
        "    test_loss = 0\n",
        "    total_correct = 0\n",
        "    total_samples = 0\n",
        "\n",
        "    with torch.no_grad():  # Turn off gradients for testing\n",
        "        for images, labels in tqdm(testloader):\n",
        "            images, labels = images.to(device), labels.to(device)  # Move to device\n",
        "            log_ps = model(images)  # Forward pass\n",
        "            loss = criterion(log_ps, labels.view(-1, 1).float())\n",
        "            test_loss += loss.item()\n",
        "            ps = torch.sigmoid(log_ps)  # Apply sigmoid for thresholding\n",
        "            top_class = ps >= 0.5  # Use threshold of 0.5 for classification\n",
        "            equals = top_class == labels.view(*top_class.shape)\n",
        "            test_accuracy += torch.mean(equals.type(torch.FloatTensor)).item()\n",
        "\n",
        "    test_accuracy = total_correct / total_samples\n",
        "    print(f\"Test Accuracy: {test_accuracy:.3f}\")"
      ]
    },
    {
      "source": [
        "!pip install mediapipe opencv-python matplotlib\n",
        "import cv2\n",
        "import mediapipe as mp\n",
        "import matplotlib.pyplot as plt\n",
        "from google.colab import files\n",
        "\n",
        "# Upload the image to Colab\n",
        "uploaded = files.upload()\n",
        "image_path = list(uploaded.keys())[0]  # Get the path of the uploaded image\n",
        "\n",
        "# ... (rest of the code remains the same, but use image_path for cv2.imread)\n",
        "img = cv2.imread(image_path)\n",
        "\n",
        "# ... (continue with the face detection and eye cropping logic)"
      ],
      "cell_type": "code",
      "metadata": {
        "id": "HWMxEq4Ixn_F"
      },
      "execution_count": null,
      "outputs": []
    },
    {
      "source": [
        "!pip install mediapipe opencv-python matplotlib\n",
        "import cv2\n",
        "import mediapipe as mp\n",
        "import matplotlib.pyplot as plt\n",
        "from google.colab import files\n",
        "\n",
        "# Upload the image to Colab\n",
        "uploaded = files.upload()\n",
        "image_path = list(uploaded.keys())[0]  # Get the path of the uploaded image\n",
        "\n",
        "# Load the image and check for errors\n",
        "img = cv2.imread(image_path)\n",
        "if img is None:\n",
        "    print(\"Error: Could not load image. Please check the image path and file existence.\")\n",
        "else:\n",
        "    print(\"Image loaded successfully.\")\n",
        "\n",
        "    mp_drawing = mp.solutions.drawing_utils\n",
        "    mp_face_mesh = mp.solutions.face_mesh\n",
        "\n",
        "    with mp_face_mesh.FaceMesh(\n",
        "        static_image_mode=True,\n",
        "        max_num_faces=1,\n",
        "        refine_landmarks=True,\n",
        "        min_detection_confidence=0.5) as face_mesh:\n",
        "\n",
        "        # Convert the image to RGB (MediaPipe expects RGB input)\n",
        "        results = face_mesh.process(cv2.cvtColor(img, cv2.COLOR_BGR2RGB))\n",
        "\n",
        "        # Check if any faces were detected\n",
        "        if results.multi_face_landmarks:\n",
        "            for face_landmarks in results.multi_face_landmarks:\n",
        "                # Get eye landmarks (indices for left and right eye)\n",
        "                left_eye_landmarks = [466, 475, 477, 474, 476]\n",
        "                right_eye_landmarks = [130, 145, 155, 153, 159]\n",
        "\n",
        "\n",
        "               # Get eye region coordinates\n",
        "                left_eye_points = [(int(face_landmarks.landmark[idx].x * img.shape[1]),\n",
        "                                   int(face_landmarks.landmark[idx].y * img.shape[0]))\n",
        "                                  for idx in left_eye_landmarks] # iterate through landmark indices\n",
        "                right_eye_points = [(int(face_landmarks.landmark[idx].x * img.shape[1]),\n",
        "                                    int(face_landmarks.landmark[idx].y * img.shape[0]))\n",
        "                                   for idx in right_eye_landmarks] # iterate through landmark indices\n",
        "for point in left_eye_points + right_eye_points:\n",
        "    cv2.circle(img, point, 2, (0, 0, 255), -1)  # Draw red circles on landmarks\n",
        "all_eye_points = left_eye_points + right_eye_points\n",
        "\n",
        "# Cropping logic with margin/padding for both eyes\n",
        "margin = 10  # Adjust this value to control the zoom level\n",
        "\n",
        "x_min = min(p[0] for p in all_eye_points) - margin\n",
        "x_max = max(p[0] for p in all_eye_points) + margin\n",
        "y_min = min(p[1] for p in all_eye_points) - margin\n",
        "y_max = max(p[1] for p in all_eye_points) + margin\n",
        "\n",
        "# Ensure coordinates are within image bounds\n",
        "x_min = max(0, x_min)\n",
        "x_max = min(img.shape[1], x_max)\n",
        "y_min = max(0, y_min)\n",
        "y_max = min(img.shape[0], y_max)\n",
        "\n",
        "# Crop the image to include both eyes\n",
        "both_eyes_img = img[y_min:y_max, x_min:x_max]\n",
        "resized_image = cv2.resize(both_eyes_img, (224, 224))\n",
        "# ... (rest of your existing code) ...\n",
        "\n",
        "# Display or save the output image (modified)\n",
        "plt.figure(figsize=(10, 5))\n",
        "\n",
        "plt.subplot(1, 2, 1)\n",
        "plt.imshow(cv2.cvtColor(img, cv2.COLOR_BGR2RGB))  # Original image with eye landmarks\n",
        "plt.title(\"Original Image\")\n",
        "\n",
        "plt.subplot(1, 2, 2)\n",
        "plt.imshow(cv2.cvtColor(both_eyes_img, cv2.COLOR_BGR2RGB))  # Cropped image with both eyes\n",
        "plt.title(\"Both Eyes\")\n",
        "plt.subplot(1, 3, 3)\n",
        "plt.imshow(cv2.cvtColor(resized_image, cv2.COLOR_BGR2RGB))  # Resized image\n",
        "plt.title(\"Both Eyes (Resized)\")\n",
        "\n",
        "\n",
        "plt.show()\n",
        "# Option 2: Save the image to a file\n",
        "output_image_path = \"eye_landmarks_output.jpg\"  # Choose a filename\n",
        "cv2.imwrite(output_image_path, img)\n",
        "print(f\"Image saved to: {output_image_path}\")"
      ],
      "cell_type": "code",
      "metadata": {
        "id": "L9F87yIlzkHB"
      },
      "execution_count": null,
      "outputs": []
    },
    {
      "cell_type": "code",
      "execution_count": null,
      "metadata": {
        "id": "FzcC0kK2nVET"
      },
      "outputs": [],
      "source": []
    },
    {
      "cell_type": "code",
      "execution_count": null,
      "metadata": {
        "id": "djUBpifIgYXu"
      },
      "outputs": [],
      "source": [
        "\n",
        "\n",
        "def test_model(model, test_loader, criterion, device):\n",
        "    model.eval()\n",
        "    test_loss = 0.0\n",
        "    correct_predictions = 0\n",
        "    total_samples = 0\n",
        "\n",
        "    with torch.no_grad():  # Disable gradient calculation for testing\n",
        "        for images, labels in test_loader:\n",
        "            images, labels = images.to(device), labels.to(device)\n",
        "\n",
        "            # Forward pass\n",
        "            outputs = model(images)\n",
        "            loss = criterion(outputs, labels.view(-1, 1).float())\n",
        "            test_loss += loss.item() * images.size(0)  # Accumulate test loss\n",
        "\n",
        "            # Convert outputs to binary predictions\n",
        "            predictions = (torch.sigmoid(outputs) >= 0.5).float()\n",
        "            correct_predictions += (predictions == labels).sum().item()\n",
        "            total_samples += labels.size(0)\n",
        "\n",
        "\n",
        "    average_test_loss = test_loss / total_samples\n",
        "    accuracy = correct_predictions / total_samples\n",
        "\n",
        "    print(f\"Test Loss: {average_test_loss:.4f}\")\n",
        "    print(f\"Test Accuracy: {accuracy * 100:.2f}%\")\n",
        "\n",
        "    return average_test_loss, accuracy\n",
        "\n",
        "\n",
        "test_dataset = DriverDrowsinessDataset(test_files, test_labels, transform=data_transforms['test'])\n",
        "test_loader = DataLoader(test_dataset, batch_size=32, shuffle=False)\n",
        "\n",
        "# Run the test function\n",
        "device = torch.device(\"mps\" if torch.backends.mps.is_available() else \"cpu\")\n",
        "test_loss, test_accuracy = test_model(model, test_loader, criterion, device)\n"
      ]
    },
    {
      "cell_type": "code",
      "execution_count": null,
      "metadata": {
        "id": "r1lNuW1V1Zf8"
      },
      "outputs": [],
      "source": [
        "# code copied from another project i worked on still need updating to fit our project"
      ]
    },
    {
      "cell_type": "code",
      "execution_count": null,
      "metadata": {
        "id": "BqxjdaJvgiYY"
      },
      "outputs": [],
      "source": [
        "#save  trained model   to a file to use later\n",
        "model.class_to_idx = image_datasets['train'].class_to_idx\n",
        "\n",
        "checkpoint = {\n",
        "    'epoch': 30,\n",
        "    'model_state_dict': model.state_dict(),\n",
        "    'optimizer_state_dict': optimizer.state_dict(),\n",
        "    'class_to_idx': model.class_to_idx\n",
        "}\n",
        "\n",
        "torch.save(checkpoint, 'model_checkpoint.pth')\n"
      ]
    },
    {
      "cell_type": "code",
      "execution_count": null,
      "metadata": {
        "id": "RSn43KaogpxH"
      },
      "outputs": [],
      "source": [
        "#  function that loads a checkpoint and rebuilds the model\n",
        "checkpoint = torch.load('./model_checkpoint.pth')\n",
        "model = models.densenet121(pretrained=True)\n",
        "for param in model.parameters():\n",
        "    param.requires_grad = False\n",
        "\n",
        "Classifer= nn.Sequential(OrderedDict([\n",
        "    ('fc1',nn.Linear(100,512,bias=True)),\n",
        "    ('relu' ,nn.ReLU()),\n",
        "    ('dropout',nn.Dropout(0.2)),\n",
        "    ('f2', nn.Linear(512,102)),\n",
        "    ('output',nn.LogSoftmax(dim=1)) ]))\n",
        "model.fc = fc\n",
        "model.load_state_dict(checkpoint['model_state_dict'])\n",
        "optimizer.load_state_dict(checkpoint['optimizer_state_dict'])\n",
        "model.class_to_idx = checkpoint['class_to_idx']\n",
        "\n"
      ]
    },
    {
      "cell_type": "markdown",
      "metadata": {
        "id": "oFFlodALgiJt"
      },
      "source": []
    }
  ],
  "metadata": {
    "colab": {
      "provenance": [],
      "gpuType": "T4"
    },
    "kernelspec": {
      "display_name": "Python 3",
      "name": "python3"
    },
    "language_info": {
      "codemirror_mode": {
        "name": "ipython",
        "version": 3
      },
      "file_extension": ".py",
      "mimetype": "text/x-python",
      "name": "python",
      "nbconvert_exporter": "python",
      "pygments_lexer": "ipython3",
      "version": "3.12.7"
    },
    "accelerator": "GPU"
  },
  "nbformat": 4,
  "nbformat_minor": 0
}