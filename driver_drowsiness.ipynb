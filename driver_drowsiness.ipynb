{
 "cells": [
  {
   "cell_type": "code",
   "execution_count": 1,
   "metadata": {
    "colab": {
     "base_uri": "https://localhost:8080/"
    },
    "id": "KWbuzqgTmSJ5",
    "outputId": "963ce9e6-6079-42b4-e05d-55e4f7b1d81c"
   },
   "outputs": [
    {
     "name": "stdout",
     "output_type": "stream",
     "text": [
      "Requirement already satisfied: kaggle in /opt/anaconda3/envs/flowers_env/lib/python3.12/site-packages (1.6.17)\n",
      "Requirement already satisfied: six>=1.10 in /opt/anaconda3/envs/flowers_env/lib/python3.12/site-packages (from kaggle) (1.16.0)\n",
      "Requirement already satisfied: certifi>=2023.7.22 in /opt/anaconda3/envs/flowers_env/lib/python3.12/site-packages (from kaggle) (2024.8.30)\n",
      "Requirement already satisfied: python-dateutil in /opt/anaconda3/envs/flowers_env/lib/python3.12/site-packages (from kaggle) (2.9.0)\n",
      "Requirement already satisfied: requests in /opt/anaconda3/envs/flowers_env/lib/python3.12/site-packages (from kaggle) (2.32.3)\n",
      "Requirement already satisfied: tqdm in /opt/anaconda3/envs/flowers_env/lib/python3.12/site-packages (from kaggle) (4.66.5)\n",
      "Requirement already satisfied: python-slugify in /opt/anaconda3/envs/flowers_env/lib/python3.12/site-packages (from kaggle) (8.0.4)\n",
      "Requirement already satisfied: urllib3 in /opt/anaconda3/envs/flowers_env/lib/python3.12/site-packages (from kaggle) (2.2.3)\n",
      "Requirement already satisfied: bleach in /opt/anaconda3/envs/flowers_env/lib/python3.12/site-packages (from kaggle) (6.1.0)\n",
      "Requirement already satisfied: webencodings in /opt/anaconda3/envs/flowers_env/lib/python3.12/site-packages (from bleach->kaggle) (0.5.1)\n",
      "Requirement already satisfied: text-unidecode>=1.3 in /opt/anaconda3/envs/flowers_env/lib/python3.12/site-packages (from python-slugify->kaggle) (1.3)\n",
      "Requirement already satisfied: charset-normalizer<4,>=2 in /opt/anaconda3/envs/flowers_env/lib/python3.12/site-packages (from requests->kaggle) (3.4.0)\n",
      "Requirement already satisfied: idna<4,>=2.5 in /opt/anaconda3/envs/flowers_env/lib/python3.12/site-packages (from requests->kaggle) (3.10)\n"
     ]
    }
   ],
   "source": [
    "! pip install kaggle\n"
   ]
  },
  {
   "cell_type": "code",
   "execution_count": 2,
   "metadata": {
    "colab": {
     "base_uri": "https://localhost:8080/"
    },
    "id": "1d8mC8hXmXv4",
    "outputId": "f4a9cf4f-1da6-4102-e233-5eaa5ebdf13c"
   },
   "outputs": [],
   "source": [
    "#from google.colab import drive\n",
    "#drive.mount('/content/drive')"
   ]
  },
  {
   "cell_type": "code",
   "execution_count": 3,
   "metadata": {
    "colab": {
     "base_uri": "https://localhost:8080/"
    },
    "id": "gzWqbVRKmnJ3",
    "outputId": "7330691b-7620-40d7-c069-ee2f75a7ecce"
   },
   "outputs": [
    {
     "name": "stdout",
     "output_type": "stream",
     "text": [
      "mkdir: /Users/haifaalmkhdoub/.kaggle: File exists\n"
     ]
    }
   ],
   "source": [
    "! mkdir ~/.kaggle\n"
   ]
  },
  {
   "cell_type": "markdown",
   "metadata": {
    "id": "tmQriRLnmouf"
   },
   "source": []
  },
  {
   "cell_type": "markdown",
   "metadata": {
    "id": "9_DzDduWszF-"
   },
   "source": []
  },
  {
   "cell_type": "markdown",
   "metadata": {
    "id": "y5JFcb7iszDg"
   },
   "source": []
  },
  {
   "cell_type": "code",
   "execution_count": 4,
   "metadata": {
    "id": "lls6YuyrmpUJ"
   },
   "outputs": [],
   "source": [
    "# the path to the json file , please upload a json file in yourgoogle drive\n",
    "!cp  ./kaggle.json  ~/.kaggle\n"
   ]
  },
  {
   "cell_type": "code",
   "execution_count": null,
   "metadata": {
    "colab": {
     "base_uri": "https://localhost:8080/"
    },
    "id": "_y5zZau7m-U3",
    "outputId": "2320d99a-2723-434d-bf23-66b57a268285"
   },
   "outputs": [
    {
     "name": "stdout",
     "output_type": "stream",
     "text": [
      "Warning: Your Kaggle API key is readable by other users on this system! To fix this, you can run 'chmod 600 /Users/haifaalmkhdoub/.kaggle/kaggle.json'\n",
      "Dataset URL: https://www.kaggle.com/datasets/ismailnasri20/driver-drowsiness-dataset-ddd\n",
      "License(s): unknown\n",
      "Downloading driver-drowsiness-dataset-ddd.zip to /Users/haifaalmkhdoub/Desktop/ml [roject\n",
      "... resuming from 444596224 bytes (2327385414 bytes left) ...\n",
      " 34%|█████████████▏                         | 891M/2.58G [00:22<01:33, 19.7MB/s]"
     ]
    }
   ],
   "source": [
    "! kaggle datasets download  ismailnasri20/driver-drowsiness-dataset-ddd\n"
   ]
  },
  {
   "cell_type": "code",
   "execution_count": 8,
   "metadata": {
    "colab": {
     "base_uri": "https://localhost:8080/"
    },
    "collapsed": true,
    "id": "0t0wL5xYnVhd",
    "outputId": "f19df0f9-302b-41f6-bcd0-4d281d45a683"
   },
   "outputs": [
    {
     "name": "stdout",
     "output_type": "stream",
     "text": [
      "Archive:  ./driver-drowsiness-dataset-ddd.zip\n",
      "replace Driver Drowsiness Dataset (DDD)/Drowsy/A0001.png? [y]es, [n]o, [A]ll, [N]one, [r]ename: ^C\n"
     ]
    }
   ],
   "source": [
    "! unzip  ./driver-drowsiness-dataset-ddd.zip"
   ]
  },
  {
   "cell_type": "code",
   "execution_count": 9,
   "metadata": {
    "id": "WfkAVltooQPi"
   },
   "outputs": [],
   "source": [
    "# Imports here\n",
    "import numpy as np\n",
    "import torch\n",
    "from torch import nn\n",
    "from torch import optim\n",
    "from torchvision import  transforms, models , datasets\n",
    "from torch.utils.data import DataLoader , Dataset\n",
    "from tqdm import tqdm  # For progress bars\n",
    "from collections import OrderedDict\n",
    "from PIL import Image\n",
    "import json\n",
    "from collections import OrderedDict\n",
    "from sklearn.model_selection import KFold\n",
    "import os\n",
    "import numpy as np\n",
    "from collections import defaultdict"
   ]
  },
  {
   "cell_type": "code",
   "execution_count": 10,
   "metadata": {
    "colab": {
     "base_uri": "https://localhost:8080/"
    },
    "id": "IzCHQX7nr0Xd",
    "outputId": "43b1a061-c77a-45ff-85e1-69a47ded3226"
   },
   "outputs": [
    {
     "name": "stdout",
     "output_type": "stream",
     "text": [
      "2.5.0\n",
      "GPU is available.\n"
     ]
    }
   ],
   "source": [
    "#for my specific device's GPU  adjust for other hardware as needed.\n",
    "\n",
    "print(torch.__version__)\n",
    "import torch\n",
    "\n",
    "if torch.backends.mps.is_available():\n",
    "    print(\"GPU is available.\")\n",
    "    device = torch.device('mps')\n",
    "else:\n",
    "    print(\"GPU is not available.\")\n",
    "    device = torch.device('cpu')\n",
    "\n",
    "\n",
    "\n",
    "\n"
   ]
  },
  {
   "cell_type": "code",
   "execution_count": 20,
   "metadata": {
    "id": "3CHFAZlTkSLv"
   },
   "outputs": [],
   "source": [
    "#!pip install split-folders\n"
   ]
  },
  {
   "cell_type": "code",
   "execution_count": 11,
   "metadata": {
    "id": "y0OQdymFPKWj"
   },
   "outputs": [],
   "source": [
    "# create a class for our data set to use dataloders\n",
    "class DriverDrowsinessDataset(Dataset):\n",
    "    def __init__(self, file_paths, labels, transform=None):\n",
    "        self.file_paths = file_paths\n",
    "        self.labels = labels\n",
    "        self.transform = transform\n",
    "\n",
    "    def __len__(self):\n",
    "        return len(self.file_paths)\n",
    "\n",
    "    def __getitem__(self, idx):\n",
    "        img_path = self.file_paths[idx]\n",
    "        label = self.labels[idx]\n",
    "        image = Image.open(img_path).convert('RGB')\n",
    "\n",
    "        if self.transform:\n",
    "            image = self.transform(image)\n",
    "\n",
    "        return image, label\n"
   ]
  },
  {
   "cell_type": "code",
   "execution_count": 22,
   "metadata": {
    "id": "8MvicqK1kQ2e"
   },
   "outputs": [],
   "source": [
    " # delete later\n",
    "#import splitfolders\n",
    "\n",
    "#data_dir = '/content/Driver Drowsiness Dataset (DDD)'\n",
    "#output_dir = '/content/splitted_Data'\n",
    "#splitfolders.ratio(data_dir, output=output_dir, seed=1337, ratio=(0.8, 0.15, 0.05))"
   ]
  },
  {
   "cell_type": "code",
   "execution_count": 23,
   "metadata": {
    "id": "CEoMYf0YhDTm"
   },
   "outputs": [],
   "source": [
    "# delete later\n",
    "#train_dir = \"/content/splitted_Data/train\"\n",
    "#test_dir = \"/content/splitted_Data/train\"\n",
    "#valid_dir = \"/content/splitted_Data/val\"\n",
    "\n"
   ]
  },
  {
   "cell_type": "code",
   "execution_count": 13,
   "metadata": {
    "colab": {
     "base_uri": "https://localhost:8080/"
    },
    "id": "VQQQ0Xa9PAbt",
    "outputId": "a4f04b6d-b0e0-4edd-bf5f-39efa6cfbf1c"
   },
   "outputs": [
    {
     "name": "stdout",
     "output_type": "stream",
     "text": [
      "Fold 1\n",
      "Starting Letters: ['g', 'n', 's', 't', 'za']\n",
      "Total files in fold: 6273\n",
      "------------------------------\n",
      "Fold 2\n",
      "Starting Letters: ['d', 'h', 'o', 'v', 'zc']\n",
      "Total files in fold: 8320\n",
      "------------------------------\n",
      "Fold 3\n",
      "Starting Letters: ['e', 'k', 'm', 'x', 'zb']\n",
      "Total files in fold: 10060\n",
      "------------------------------\n",
      "Fold 4\n",
      "Starting Letters: ['a', 'b', 'i', 'q']\n",
      "Total files in fold: 6610\n",
      "------------------------------\n",
      "Fold 5\n",
      "Starting Letters: ['c', 'u', 'w', 'y']\n",
      "Total files in fold: 5932\n",
      "------------------------------\n"
     ]
    }
   ],
   "source": [
    "\n",
    "\n",
    "base_folder = './Driver Drowsiness Dataset (DDD)'\n",
    "drowsy_folder = os.path.join(base_folder, 'Drowsy')\n",
    "non_drowsy_folder = os.path.join(base_folder, 'Non Drowsy')\n",
    "\n",
    "video_groups = defaultdict(list)\n",
    "\n",
    "folders = [drowsy_folder, non_drowsy_folder]\n",
    "labels_dict = {}\n",
    "\n",
    "for folder in folders:\n",
    "    label = 0 if 'Non Drowsy' in folder else 1\n",
    "    for img_name in os.listdir(folder):\n",
    "        video_id = img_name[0].lower()  # Convert starting letter to lowercase\n",
    "        # in the dataset all frames belonging to the same video start  with the same letter except for z which has 3 diffrent videos  za zb zc\n",
    "        if video_id == 'z' :\n",
    "            video_id = img_name[0:2].lower()\n",
    "        video_groups[video_id].append(os.path.join(folder, img_name))\n",
    "        labels_dict[os.path.join(folder, img_name)] = label\n",
    "\n",
    "# sepreate test set\n",
    "video_group_keys = list(video_groups.keys())\n",
    "np.random.shuffle(video_group_keys)\n",
    "test_size = int(0.2 * len(video_group_keys))\n",
    "test_groups = video_group_keys[:test_size]\n",
    "train_val_groups = video_group_keys[test_size:]\n",
    "\n",
    "# Create file paths and labels for test set\n",
    "test_files = [file for group in test_groups for file in video_groups[group]]\n",
    "test_labels = [labels_dict[file] for file in test_files]\n",
    "\n",
    "\n",
    "k_folds = 5\n",
    "folds = [[] for _ in range(k_folds)]\n",
    "\n",
    "for idx, video_id in enumerate(train_val_groups):\n",
    "    folds[idx % k_folds].extend(video_groups[video_id])\n",
    "\n",
    "\n",
    "for fold_idx, fold_files in enumerate(folds, 1):\n",
    "    print(f\"Fold {fold_idx}\")\n",
    "    # print groups in each fold\n",
    "    starting_letters = []\n",
    "    for file in fold_files:\n",
    "      base_name = os.path.basename(file).lower()\n",
    "      if base_name[0]=='z':\n",
    "        starting_letters.append(base_name[0:2])\n",
    "      else:\n",
    "        starting_letters.append(base_name[0])\n",
    "\n",
    "    unique_starting_letters = sorted(set(starting_letters))\n",
    "    print(f\"Starting Letters: {unique_starting_letters}\")\n",
    "    print(f\"Total files in fold: {len(fold_files)}\")\n",
    "    print(\"-\" * 30)\n",
    "\n"
   ]
  },
  {
   "cell_type": "code",
   "execution_count": 24,
   "metadata": {
    "id": "9-UjW5OB52zH"
   },
   "outputs": [],
   "source": []
  },
  {
   "cell_type": "code",
   "execution_count": 15,
   "metadata": {
    "colab": {
     "base_uri": "https://localhost:8080/",
     "height": 125
    },
    "id": "WMk1sMrck_CU",
    "outputId": "0fb9802b-3246-4ab2-ff3f-73bfa0079e12"
   },
   "outputs": [
    {
     "data": {
      "text/plain": [
       "\"\\n# TODO: Load the datasets with ImageFolder\\nimage_datasets = {\\n    'train': datasets.ImageFolder(train_dir,transform = data_transforms['train']),\\n    'valid': datasets.ImageFolder(valid_dir,transform = data_transforms['valid']),\\n    'test':datasets.ImageFolder(test_dir,transform= data_transforms['test'])\\n\\n}\\n\\n# TODO: Using the image datasets and the trainforms, define the dataloaders\\ndataloaders ={'train': DataLoader(image_datasets['train'], batch_size=32, shuffle=True),\\n    'valid': DataLoader(image_datasets['valid'], batch_size=32, shuffle=True),\\n    'test': DataLoader(image_datasets['test'], batch_size=32, shuffle=True)\\n}\\n\""
      ]
     },
     "execution_count": 15,
     "metadata": {},
     "output_type": "execute_result"
    }
   ],
   "source": [
    "data_transforms = {\n",
    "    'train': transforms.Compose([\n",
    "                transforms.RandomResizedCrop(224),\n",
    "                transforms.RandomHorizontalFlip(),\n",
    "                transforms.ToTensor(),\n",
    "                transforms.Normalize(mean=[0.485, 0.456, 0.406], std = [0.229, 0.224, 0.225])\n",
    "                ]),\n",
    "    'valid': transforms.Compose([transforms.Resize(255),\n",
    "                               transforms.CenterCrop(224),\n",
    "                                transforms.ToTensor(),\n",
    "                transforms.Normalize(mean=[0.485, 0.456, 0.406], std = [0.229, 0.224, 0.225])\n",
    "                              ]),\n",
    "    'test': transforms.Compose([transforms.Resize(255),\n",
    "                               transforms.CenterCrop(224),\n",
    "                                transforms.ToTensor(),\n",
    "                transforms.Normalize(mean=[0.485, 0.456, 0.406], std = [0.229, 0.224, 0.225])\n",
    "                              ])\n",
    "\n",
    "}\n",
    "'''\n",
    "# TODO: Load the datasets with ImageFolder\n",
    "image_datasets = {\n",
    "    'train': datasets.ImageFolder(train_dir,transform = data_transforms['train']),\n",
    "    'valid': datasets.ImageFolder(valid_dir,transform = data_transforms['valid']),\n",
    "    'test':datasets.ImageFolder(test_dir,transform= data_transforms['test'])\n",
    "\n",
    "}\n",
    "\n",
    "# TODO: Using the image datasets and the trainforms, define the dataloaders\n",
    "dataloaders ={'train': DataLoader(image_datasets['train'], batch_size=32, shuffle=True),\n",
    "    'valid': DataLoader(image_datasets['valid'], batch_size=32, shuffle=True),\n",
    "    'test': DataLoader(image_datasets['test'], batch_size=32, shuffle=True)\n",
    "}\n",
    "'''"
   ]
  },
  {
   "cell_type": "code",
   "execution_count": 25,
   "metadata": {
    "id": "iLHb95j5Qn0a"
   },
   "outputs": [],
   "source": []
  },
  {
   "cell_type": "code",
   "execution_count": 16,
   "metadata": {
    "colab": {
     "base_uri": "https://localhost:8080/"
    },
    "id": "89_w2ayNoUDf",
    "outputId": "e250a8c6-dd40-418f-e8bc-a7e4ebb772cb"
   },
   "outputs": [
    {
     "name": "stderr",
     "output_type": "stream",
     "text": [
      "/opt/anaconda3/envs/flowers_env/lib/python3.12/site-packages/torchvision/models/_utils.py:208: UserWarning: The parameter 'pretrained' is deprecated since 0.13 and may be removed in the future, please use 'weights' instead.\n",
      "  warnings.warn(\n",
      "/opt/anaconda3/envs/flowers_env/lib/python3.12/site-packages/torchvision/models/_utils.py:223: UserWarning: Arguments other than a weight enum or `None` for 'weights' are deprecated since 0.13 and may be removed in the future. The current behavior is equivalent to passing `weights=ResNet50_Weights.IMAGENET1K_V1`. You can also use `weights=ResNet50_Weights.DEFAULT` to get the most up-to-date weights.\n",
      "  warnings.warn(msg)\n"
     ]
    },
    {
     "name": "stdout",
     "output_type": "stream",
     "text": [
      "ResNet(\n",
      "  (conv1): Conv2d(3, 64, kernel_size=(7, 7), stride=(2, 2), padding=(3, 3), bias=False)\n",
      "  (bn1): BatchNorm2d(64, eps=1e-05, momentum=0.1, affine=True, track_running_stats=True)\n",
      "  (relu): ReLU(inplace=True)\n",
      "  (maxpool): MaxPool2d(kernel_size=3, stride=2, padding=1, dilation=1, ceil_mode=False)\n",
      "  (layer1): Sequential(\n",
      "    (0): Bottleneck(\n",
      "      (conv1): Conv2d(64, 64, kernel_size=(1, 1), stride=(1, 1), bias=False)\n",
      "      (bn1): BatchNorm2d(64, eps=1e-05, momentum=0.1, affine=True, track_running_stats=True)\n",
      "      (conv2): Conv2d(64, 64, kernel_size=(3, 3), stride=(1, 1), padding=(1, 1), bias=False)\n",
      "      (bn2): BatchNorm2d(64, eps=1e-05, momentum=0.1, affine=True, track_running_stats=True)\n",
      "      (conv3): Conv2d(64, 256, kernel_size=(1, 1), stride=(1, 1), bias=False)\n",
      "      (bn3): BatchNorm2d(256, eps=1e-05, momentum=0.1, affine=True, track_running_stats=True)\n",
      "      (relu): ReLU(inplace=True)\n",
      "      (downsample): Sequential(\n",
      "        (0): Conv2d(64, 256, kernel_size=(1, 1), stride=(1, 1), bias=False)\n",
      "        (1): BatchNorm2d(256, eps=1e-05, momentum=0.1, affine=True, track_running_stats=True)\n",
      "      )\n",
      "    )\n",
      "    (1): Bottleneck(\n",
      "      (conv1): Conv2d(256, 64, kernel_size=(1, 1), stride=(1, 1), bias=False)\n",
      "      (bn1): BatchNorm2d(64, eps=1e-05, momentum=0.1, affine=True, track_running_stats=True)\n",
      "      (conv2): Conv2d(64, 64, kernel_size=(3, 3), stride=(1, 1), padding=(1, 1), bias=False)\n",
      "      (bn2): BatchNorm2d(64, eps=1e-05, momentum=0.1, affine=True, track_running_stats=True)\n",
      "      (conv3): Conv2d(64, 256, kernel_size=(1, 1), stride=(1, 1), bias=False)\n",
      "      (bn3): BatchNorm2d(256, eps=1e-05, momentum=0.1, affine=True, track_running_stats=True)\n",
      "      (relu): ReLU(inplace=True)\n",
      "    )\n",
      "    (2): Bottleneck(\n",
      "      (conv1): Conv2d(256, 64, kernel_size=(1, 1), stride=(1, 1), bias=False)\n",
      "      (bn1): BatchNorm2d(64, eps=1e-05, momentum=0.1, affine=True, track_running_stats=True)\n",
      "      (conv2): Conv2d(64, 64, kernel_size=(3, 3), stride=(1, 1), padding=(1, 1), bias=False)\n",
      "      (bn2): BatchNorm2d(64, eps=1e-05, momentum=0.1, affine=True, track_running_stats=True)\n",
      "      (conv3): Conv2d(64, 256, kernel_size=(1, 1), stride=(1, 1), bias=False)\n",
      "      (bn3): BatchNorm2d(256, eps=1e-05, momentum=0.1, affine=True, track_running_stats=True)\n",
      "      (relu): ReLU(inplace=True)\n",
      "    )\n",
      "  )\n",
      "  (layer2): Sequential(\n",
      "    (0): Bottleneck(\n",
      "      (conv1): Conv2d(256, 128, kernel_size=(1, 1), stride=(1, 1), bias=False)\n",
      "      (bn1): BatchNorm2d(128, eps=1e-05, momentum=0.1, affine=True, track_running_stats=True)\n",
      "      (conv2): Conv2d(128, 128, kernel_size=(3, 3), stride=(2, 2), padding=(1, 1), bias=False)\n",
      "      (bn2): BatchNorm2d(128, eps=1e-05, momentum=0.1, affine=True, track_running_stats=True)\n",
      "      (conv3): Conv2d(128, 512, kernel_size=(1, 1), stride=(1, 1), bias=False)\n",
      "      (bn3): BatchNorm2d(512, eps=1e-05, momentum=0.1, affine=True, track_running_stats=True)\n",
      "      (relu): ReLU(inplace=True)\n",
      "      (downsample): Sequential(\n",
      "        (0): Conv2d(256, 512, kernel_size=(1, 1), stride=(2, 2), bias=False)\n",
      "        (1): BatchNorm2d(512, eps=1e-05, momentum=0.1, affine=True, track_running_stats=True)\n",
      "      )\n",
      "    )\n",
      "    (1): Bottleneck(\n",
      "      (conv1): Conv2d(512, 128, kernel_size=(1, 1), stride=(1, 1), bias=False)\n",
      "      (bn1): BatchNorm2d(128, eps=1e-05, momentum=0.1, affine=True, track_running_stats=True)\n",
      "      (conv2): Conv2d(128, 128, kernel_size=(3, 3), stride=(1, 1), padding=(1, 1), bias=False)\n",
      "      (bn2): BatchNorm2d(128, eps=1e-05, momentum=0.1, affine=True, track_running_stats=True)\n",
      "      (conv3): Conv2d(128, 512, kernel_size=(1, 1), stride=(1, 1), bias=False)\n",
      "      (bn3): BatchNorm2d(512, eps=1e-05, momentum=0.1, affine=True, track_running_stats=True)\n",
      "      (relu): ReLU(inplace=True)\n",
      "    )\n",
      "    (2): Bottleneck(\n",
      "      (conv1): Conv2d(512, 128, kernel_size=(1, 1), stride=(1, 1), bias=False)\n",
      "      (bn1): BatchNorm2d(128, eps=1e-05, momentum=0.1, affine=True, track_running_stats=True)\n",
      "      (conv2): Conv2d(128, 128, kernel_size=(3, 3), stride=(1, 1), padding=(1, 1), bias=False)\n",
      "      (bn2): BatchNorm2d(128, eps=1e-05, momentum=0.1, affine=True, track_running_stats=True)\n",
      "      (conv3): Conv2d(128, 512, kernel_size=(1, 1), stride=(1, 1), bias=False)\n",
      "      (bn3): BatchNorm2d(512, eps=1e-05, momentum=0.1, affine=True, track_running_stats=True)\n",
      "      (relu): ReLU(inplace=True)\n",
      "    )\n",
      "    (3): Bottleneck(\n",
      "      (conv1): Conv2d(512, 128, kernel_size=(1, 1), stride=(1, 1), bias=False)\n",
      "      (bn1): BatchNorm2d(128, eps=1e-05, momentum=0.1, affine=True, track_running_stats=True)\n",
      "      (conv2): Conv2d(128, 128, kernel_size=(3, 3), stride=(1, 1), padding=(1, 1), bias=False)\n",
      "      (bn2): BatchNorm2d(128, eps=1e-05, momentum=0.1, affine=True, track_running_stats=True)\n",
      "      (conv3): Conv2d(128, 512, kernel_size=(1, 1), stride=(1, 1), bias=False)\n",
      "      (bn3): BatchNorm2d(512, eps=1e-05, momentum=0.1, affine=True, track_running_stats=True)\n",
      "      (relu): ReLU(inplace=True)\n",
      "    )\n",
      "  )\n",
      "  (layer3): Sequential(\n",
      "    (0): Bottleneck(\n",
      "      (conv1): Conv2d(512, 256, kernel_size=(1, 1), stride=(1, 1), bias=False)\n",
      "      (bn1): BatchNorm2d(256, eps=1e-05, momentum=0.1, affine=True, track_running_stats=True)\n",
      "      (conv2): Conv2d(256, 256, kernel_size=(3, 3), stride=(2, 2), padding=(1, 1), bias=False)\n",
      "      (bn2): BatchNorm2d(256, eps=1e-05, momentum=0.1, affine=True, track_running_stats=True)\n",
      "      (conv3): Conv2d(256, 1024, kernel_size=(1, 1), stride=(1, 1), bias=False)\n",
      "      (bn3): BatchNorm2d(1024, eps=1e-05, momentum=0.1, affine=True, track_running_stats=True)\n",
      "      (relu): ReLU(inplace=True)\n",
      "      (downsample): Sequential(\n",
      "        (0): Conv2d(512, 1024, kernel_size=(1, 1), stride=(2, 2), bias=False)\n",
      "        (1): BatchNorm2d(1024, eps=1e-05, momentum=0.1, affine=True, track_running_stats=True)\n",
      "      )\n",
      "    )\n",
      "    (1): Bottleneck(\n",
      "      (conv1): Conv2d(1024, 256, kernel_size=(1, 1), stride=(1, 1), bias=False)\n",
      "      (bn1): BatchNorm2d(256, eps=1e-05, momentum=0.1, affine=True, track_running_stats=True)\n",
      "      (conv2): Conv2d(256, 256, kernel_size=(3, 3), stride=(1, 1), padding=(1, 1), bias=False)\n",
      "      (bn2): BatchNorm2d(256, eps=1e-05, momentum=0.1, affine=True, track_running_stats=True)\n",
      "      (conv3): Conv2d(256, 1024, kernel_size=(1, 1), stride=(1, 1), bias=False)\n",
      "      (bn3): BatchNorm2d(1024, eps=1e-05, momentum=0.1, affine=True, track_running_stats=True)\n",
      "      (relu): ReLU(inplace=True)\n",
      "    )\n",
      "    (2): Bottleneck(\n",
      "      (conv1): Conv2d(1024, 256, kernel_size=(1, 1), stride=(1, 1), bias=False)\n",
      "      (bn1): BatchNorm2d(256, eps=1e-05, momentum=0.1, affine=True, track_running_stats=True)\n",
      "      (conv2): Conv2d(256, 256, kernel_size=(3, 3), stride=(1, 1), padding=(1, 1), bias=False)\n",
      "      (bn2): BatchNorm2d(256, eps=1e-05, momentum=0.1, affine=True, track_running_stats=True)\n",
      "      (conv3): Conv2d(256, 1024, kernel_size=(1, 1), stride=(1, 1), bias=False)\n",
      "      (bn3): BatchNorm2d(1024, eps=1e-05, momentum=0.1, affine=True, track_running_stats=True)\n",
      "      (relu): ReLU(inplace=True)\n",
      "    )\n",
      "    (3): Bottleneck(\n",
      "      (conv1): Conv2d(1024, 256, kernel_size=(1, 1), stride=(1, 1), bias=False)\n",
      "      (bn1): BatchNorm2d(256, eps=1e-05, momentum=0.1, affine=True, track_running_stats=True)\n",
      "      (conv2): Conv2d(256, 256, kernel_size=(3, 3), stride=(1, 1), padding=(1, 1), bias=False)\n",
      "      (bn2): BatchNorm2d(256, eps=1e-05, momentum=0.1, affine=True, track_running_stats=True)\n",
      "      (conv3): Conv2d(256, 1024, kernel_size=(1, 1), stride=(1, 1), bias=False)\n",
      "      (bn3): BatchNorm2d(1024, eps=1e-05, momentum=0.1, affine=True, track_running_stats=True)\n",
      "      (relu): ReLU(inplace=True)\n",
      "    )\n",
      "    (4): Bottleneck(\n",
      "      (conv1): Conv2d(1024, 256, kernel_size=(1, 1), stride=(1, 1), bias=False)\n",
      "      (bn1): BatchNorm2d(256, eps=1e-05, momentum=0.1, affine=True, track_running_stats=True)\n",
      "      (conv2): Conv2d(256, 256, kernel_size=(3, 3), stride=(1, 1), padding=(1, 1), bias=False)\n",
      "      (bn2): BatchNorm2d(256, eps=1e-05, momentum=0.1, affine=True, track_running_stats=True)\n",
      "      (conv3): Conv2d(256, 1024, kernel_size=(1, 1), stride=(1, 1), bias=False)\n",
      "      (bn3): BatchNorm2d(1024, eps=1e-05, momentum=0.1, affine=True, track_running_stats=True)\n",
      "      (relu): ReLU(inplace=True)\n",
      "    )\n",
      "    (5): Bottleneck(\n",
      "      (conv1): Conv2d(1024, 256, kernel_size=(1, 1), stride=(1, 1), bias=False)\n",
      "      (bn1): BatchNorm2d(256, eps=1e-05, momentum=0.1, affine=True, track_running_stats=True)\n",
      "      (conv2): Conv2d(256, 256, kernel_size=(3, 3), stride=(1, 1), padding=(1, 1), bias=False)\n",
      "      (bn2): BatchNorm2d(256, eps=1e-05, momentum=0.1, affine=True, track_running_stats=True)\n",
      "      (conv3): Conv2d(256, 1024, kernel_size=(1, 1), stride=(1, 1), bias=False)\n",
      "      (bn3): BatchNorm2d(1024, eps=1e-05, momentum=0.1, affine=True, track_running_stats=True)\n",
      "      (relu): ReLU(inplace=True)\n",
      "    )\n",
      "  )\n",
      "  (layer4): Sequential(\n",
      "    (0): Bottleneck(\n",
      "      (conv1): Conv2d(1024, 512, kernel_size=(1, 1), stride=(1, 1), bias=False)\n",
      "      (bn1): BatchNorm2d(512, eps=1e-05, momentum=0.1, affine=True, track_running_stats=True)\n",
      "      (conv2): Conv2d(512, 512, kernel_size=(3, 3), stride=(2, 2), padding=(1, 1), bias=False)\n",
      "      (bn2): BatchNorm2d(512, eps=1e-05, momentum=0.1, affine=True, track_running_stats=True)\n",
      "      (conv3): Conv2d(512, 2048, kernel_size=(1, 1), stride=(1, 1), bias=False)\n",
      "      (bn3): BatchNorm2d(2048, eps=1e-05, momentum=0.1, affine=True, track_running_stats=True)\n",
      "      (relu): ReLU(inplace=True)\n",
      "      (downsample): Sequential(\n",
      "        (0): Conv2d(1024, 2048, kernel_size=(1, 1), stride=(2, 2), bias=False)\n",
      "        (1): BatchNorm2d(2048, eps=1e-05, momentum=0.1, affine=True, track_running_stats=True)\n",
      "      )\n",
      "    )\n",
      "    (1): Bottleneck(\n",
      "      (conv1): Conv2d(2048, 512, kernel_size=(1, 1), stride=(1, 1), bias=False)\n",
      "      (bn1): BatchNorm2d(512, eps=1e-05, momentum=0.1, affine=True, track_running_stats=True)\n",
      "      (conv2): Conv2d(512, 512, kernel_size=(3, 3), stride=(1, 1), padding=(1, 1), bias=False)\n",
      "      (bn2): BatchNorm2d(512, eps=1e-05, momentum=0.1, affine=True, track_running_stats=True)\n",
      "      (conv3): Conv2d(512, 2048, kernel_size=(1, 1), stride=(1, 1), bias=False)\n",
      "      (bn3): BatchNorm2d(2048, eps=1e-05, momentum=0.1, affine=True, track_running_stats=True)\n",
      "      (relu): ReLU(inplace=True)\n",
      "    )\n",
      "    (2): Bottleneck(\n",
      "      (conv1): Conv2d(2048, 512, kernel_size=(1, 1), stride=(1, 1), bias=False)\n",
      "      (bn1): BatchNorm2d(512, eps=1e-05, momentum=0.1, affine=True, track_running_stats=True)\n",
      "      (conv2): Conv2d(512, 512, kernel_size=(3, 3), stride=(1, 1), padding=(1, 1), bias=False)\n",
      "      (bn2): BatchNorm2d(512, eps=1e-05, momentum=0.1, affine=True, track_running_stats=True)\n",
      "      (conv3): Conv2d(512, 2048, kernel_size=(1, 1), stride=(1, 1), bias=False)\n",
      "      (bn3): BatchNorm2d(2048, eps=1e-05, momentum=0.1, affine=True, track_running_stats=True)\n",
      "      (relu): ReLU(inplace=True)\n",
      "    )\n",
      "  )\n",
      "  (avgpool): AdaptiveAvgPool2d(output_size=(1, 1))\n",
      "  (fc): Linear(in_features=2048, out_features=1000, bias=True)\n",
      ")\n"
     ]
    }
   ],
   "source": [
    "model = models.resnet50(pretrained=True)\n",
    "print(model)\n",
    "\n"
   ]
  },
  {
   "cell_type": "code",
   "execution_count": 26,
   "metadata": {
    "id": "N2sRQze9gt-v"
   },
   "outputs": [],
   "source": []
  },
  {
   "cell_type": "code",
   "execution_count": 17,
   "metadata": {
    "id": "jmJ7HL0uoipD"
   },
   "outputs": [],
   "source": [
    "# freeze paramters\n",
    "for param in model.parameters():\n",
    "    param.requires_grad = False"
   ]
  },
  {
   "cell_type": "code",
   "execution_count": 18,
   "metadata": {
    "id": "wjd_3RQSol3W"
   },
   "outputs": [],
   "source": [
    "# this just a base code we can change the number of nodes and layers\n",
    "fc = nn.Sequential(OrderedDict([\n",
    "    ('fc1',nn.Linear(2048,512,bias=True)),\n",
    "    ('relu' ,nn.ReLU()),\n",
    "    ('dropout',nn.Dropout(0.2)),\n",
    "    ('f2', nn.Linear(512,512,bias=True)),\n",
    "    ('dropout',nn.Dropout(0.2)),\n",
    "    ('f3', nn.Linear(512,1,bias=True)),]))\n",
    "model.fc = fc"
   ]
  },
  {
   "cell_type": "code",
   "execution_count": 28,
   "metadata": {
    "id": "6wi3rchpfxxf"
   },
   "outputs": [],
   "source": []
  },
  {
   "cell_type": "code",
   "execution_count": 19,
   "metadata": {
    "id": "jrymuH1ir2yt"
   },
   "outputs": [],
   "source": [
    "\n",
    "def train_model(model, trainloader, validloader, criterion, optimizer, num_epochs=20, print_every=2, device='cpu'):\n",
    "\n",
    "    for e in range(num_epochs):\n",
    "\n",
    "        # Training Phase\n",
    "        train_accuracy = 0\n",
    "        running_loss = 0\n",
    "        model.train()\n",
    "\n",
    "        for images, labels in tqdm(trainloader):\n",
    "            images, labels = images.to(device), labels.to(device)\n",
    "\n",
    "            optimizer.zero_grad()\n",
    "            log_ps = model(images)  # Forward pass (raw logits)\n",
    "            loss = criterion(log_ps, labels.view(-1, 1).float())  # Calculate loss\n",
    "            loss.backward()  # Backpropagation\n",
    "            optimizer.step()\n",
    "\n",
    "            running_loss += loss.item()\n",
    "\n",
    "            # Calculate accuracy for training\n",
    "            with torch.no_grad(): \n",
    "                ps = torch.sigmoid(log_ps)  \n",
    "                top_class = ps >= 0.5  # Threshold of 0.5 for binary classification (1 or 0)\n",
    "                equals = top_class == labels.view(*top_class.shape)  #\n",
    "                train_accuracy += torch.mean(equals.type(torch.FloatTensor)).item()\n",
    "\n",
    "        # Print average losses and validation accuracy at specified intervals\n",
    "        if (e + 1) % print_every == 0:\n",
    "            test_loss = 0\n",
    "            valid_accuracy = 0\n",
    "            model.eval()  # Set to evaluation mode\n",
    "            with torch.no_grad():  # Disable gradient computation during validation\n",
    "                for inputs, labels in tqdm(validloader):\n",
    "                    inputs, labels = inputs.to(device), labels.to(device)\n",
    "                    log_ps = model(inputs)  # Forward pass (raw logits)\n",
    "                    batch_loss = criterion(log_ps, labels.view(-1, 1).float())\n",
    "                    test_loss += batch_loss.item()\n",
    "\n",
    "                    # Calculate accuracy for validation\n",
    "                    ps = torch.sigmoid(log_ps)  # Apply sigmoid for thresholding\n",
    "                    top_class = ps >= 0.5  # Use threshold of 0.5 for classification\n",
    "                    equals = top_class == labels.view(*top_class.shape)\n",
    "                    valid_accuracy += torch.mean(equals.type(torch.FloatTensor)).item()\n",
    "\n",
    "            # Print training and validation statistics\n",
    "            print(f\"Epoch {e+1}/{num_epochs}.. \"\n",
    "                  f\"Train loss: {running_loss/len(trainloader):.3f}.. \"\n",
    "                  f\"Training accuracy: {train_accuracy/len(trainloader):.3f}.. \"\n",
    "                  f\"Validation loss: {test_loss/len(validloader):.3f}.. \"\n",
    "                  f\"Validation accuracy: {valid_accuracy/len(validloader):.3f}\")\n",
    "\n",
    "            # Reset variables for next epoch\n",
    "            running_loss = 0\n",
    "            train_accuracy = 0\n",
    "\n",
    "            model.train()  # Switch back to training mode\n",
    "\n",
    "    return model, test_loss , valid_accuracy\n",
    "\n"
   ]
  },
  {
   "cell_type": "code",
   "execution_count": 16,
   "metadata": {},
   "outputs": [
    {
     "data": {
      "text/plain": [
       "True"
      ]
     },
     "execution_count": 16,
     "metadata": {},
     "output_type": "execute_result"
    }
   ],
   "source": []
  },
  {
   "cell_type": "markdown",
   "metadata": {
    "id": "Hyr0vhHQROYg"
   },
   "source": []
  },
  {
   "cell_type": "code",
   "execution_count": null,
   "metadata": {
    "colab": {
     "base_uri": "https://localhost:8080/"
    },
    "id": "0uXs5Y2TsADD",
    "outputId": "9f39d62b-ed20-47b0-89c2-4943234df6ee"
   },
   "outputs": [],
   "source": [
    "all_fold_val_losses = []\n",
    "all_fold_val_accuracies = []\n",
    "\n",
    "# Cross-validation loop\n",
    "for fold_idx in range(k_folds):\n",
    "    print\n",
    "    val_files = folds[fold_idx]\n",
    "    train_files = []\n",
    "    for idx  in range(len(folds)):\n",
    "      if idx != fold_idx:\n",
    "          for file in folds[idx]:\n",
    "            train_files.append(file)\n",
    "\n",
    "    val_labels = [labels_dict[file] for file in val_files]\n",
    "    train_labels = [labels_dict[file] for file in train_files]\n",
    "\n",
    "    train_dataset = DriverDrowsinessDataset(train_files, train_labels, transform = data_transforms['train'])\n",
    "    val_dataset = DriverDrowsinessDataset(val_files, val_labels, transform = data_transforms['valid'])\n",
    "    train_loader = DataLoader(train_dataset, batch_size=32, shuffle=True,drop_last = True)\n",
    "    val_loader = DataLoader(val_dataset, batch_size=32, shuffle=True,drop_last = True)\n",
    "    criterion =  nn.BCEWithLogitsLoss()\n",
    "    model.to(device)\n",
    "    optimizer = optim.Adam(fc.parameters(), lr=0.003)\n",
    "    trained_model, valid_loss, valid_accuracy  = train_model(model, train_loader ,val_loader, criterion, optimizer, num_epochs=20 ,device = device)\n",
    "    all_fold_val_losses.append(valid_loss)\n",
    "    all_fold_val_accuracies.append(valid_accuracy)\n",
    "\n",
    "\n",
    "\n",
    "\n",
    "\n"
   ]
  },
  {
   "cell_type": "code",
   "execution_count": null,
   "metadata": {
    "id": "T-0UjvxjagMR"
   },
   "outputs": [],
   "source": []
  },
  {
   "cell_type": "code",
   "execution_count": 40,
   "metadata": {
    "id": "6VmnlOhzgXNZ"
   },
   "outputs": [],
   "source": [
    "def test_model(model, testloader, criterion):\n",
    "    model.eval()  # Set model to evaluation mode\n",
    "    test_loss = 0\n",
    "    total_correct = 0\n",
    "    total_samples = 0\n",
    "\n",
    "    with torch.no_grad():  # Turn off gradients for testing\n",
    "        for images, labels in tqdm(testloader):\n",
    "            images, labels = images.to(device), labels.to(device)  # Move to device\n",
    "            log_ps = model(images)  # Forward pass\n",
    "            loss = criterion(log_ps, labels.view(-1, 1).float())\n",
    "            test_loss += loss.item()\n",
    "            ps = torch.sigmoid(log_ps)  # Apply sigmoid for thresholding\n",
    "            top_class = ps >= 0.5  # Use threshold of 0.5 for classification\n",
    "            equals = top_class == labels.view(*top_class.shape)\n",
    "            test_accuracy += torch.mean(equals.type(torch.FloatTensor)).item()\n",
    "\n",
    "    test_accuracy = total_correct / total_samples\n",
    "    print(f\"Test Accuracy: {test_accuracy:.3f}\")"
   ]
  },
  {
   "cell_type": "code",
   "execution_count": null,
   "metadata": {},
   "outputs": [],
   "source": []
  },
  {
   "cell_type": "code",
   "execution_count": null,
   "metadata": {
    "id": "djUBpifIgYXu"
   },
   "outputs": [],
   "source": [
    "\n",
    "\n",
    "def test_model(model, test_loader, criterion, device):\n",
    "    model.eval() \n",
    "    test_loss = 0.0\n",
    "    correct_predictions = 0\n",
    "    total_samples = 0\n",
    "    \n",
    "    with torch.no_grad():  # Disable gradient calculation for testing\n",
    "        for images, labels in test_loader:\n",
    "            images, labels = images.to(device), labels.to(device)\n",
    "            \n",
    "            # Forward pass\n",
    "            outputs = model(images)\n",
    "            loss = criterion(outputs, labels.view(-1, 1).float())\n",
    "            test_loss += loss.item() * images.size(0)  # Accumulate test loss\n",
    "            \n",
    "            # Convert outputs to binary predictions\n",
    "            predictions = (torch.sigmoid(outputs) >= 0.5).float()\n",
    "            correct_predictions += (predictions == labels).sum().item()\n",
    "            total_samples += labels.size(0)\n",
    "    \n",
    "\n",
    "    average_test_loss = test_loss / total_samples\n",
    "    accuracy = correct_predictions / total_samples\n",
    "    \n",
    "    print(f\"Test Loss: {average_test_loss:.4f}\")\n",
    "    print(f\"Test Accuracy: {accuracy * 100:.2f}%\")\n",
    "    \n",
    "    return average_test_loss, accuracy\n",
    "\n",
    "\n",
    "test_dataset = DriverDrowsinessDataset(test_files, test_labels, transform=data_transforms['test'])\n",
    "test_loader = DataLoader(test_dataset, batch_size=32, shuffle=False)\n",
    "\n",
    "# Run the test function\n",
    "device = torch.device(\"mps\" if torch.backends.mps.is_available() else \"cpu\")\n",
    "test_loss, test_accuracy = test_model(model, test_loader, criterion, device)\n"
   ]
  },
  {
   "cell_type": "code",
   "execution_count": null,
   "metadata": {
    "id": "r1lNuW1V1Zf8"
   },
   "outputs": [],
   "source": [
    "# code copied from another project i worked on still need updating to fit our project"
   ]
  },
  {
   "cell_type": "code",
   "execution_count": null,
   "metadata": {
    "id": "BqxjdaJvgiYY"
   },
   "outputs": [],
   "source": [
    "#save  trained model   to a file to use later\n",
    "model.class_to_idx = image_datasets['train'].class_to_idx\n",
    "\n",
    "checkpoint = {\n",
    "    'epoch': 30,\n",
    "    'model_state_dict': model.state_dict(),\n",
    "    'optimizer_state_dict': optimizer.state_dict(),\n",
    "    'class_to_idx': model.class_to_idx\n",
    "}\n",
    "\n",
    "torch.save(checkpoint, 'model_checkpoint.pth')\n"
   ]
  },
  {
   "cell_type": "code",
   "execution_count": null,
   "metadata": {
    "id": "RSn43KaogpxH"
   },
   "outputs": [],
   "source": [
    "#  function that loads a checkpoint and rebuilds the model\n",
    "checkpoint = torch.load('./model_checkpoint.pth')\n",
    "model = models.densenet121(pretrained=True)\n",
    "for param in model.parameters():\n",
    "    param.requires_grad = False\n",
    "\n",
    "Classifer= nn.Sequential(OrderedDict([\n",
    "    ('fc1',nn.Linear(100,512,bias=True)),\n",
    "    ('relu' ,nn.ReLU()),\n",
    "    ('dropout',nn.Dropout(0.2)),\n",
    "    ('f2', nn.Linear(512,102)),\n",
    "    ('output',nn.LogSoftmax(dim=1)) ]))\n",
    "model.fc = fc\n",
    "model.load_state_dict(checkpoint['model_state_dict'])\n",
    "optimizer.load_state_dict(checkpoint['optimizer_state_dict'])\n",
    "model.class_to_idx = checkpoint['class_to_idx']\n",
    "\n"
   ]
  },
  {
   "cell_type": "markdown",
   "metadata": {
    "id": "oFFlodALgiJt"
   },
   "source": []
  }
 ],
 "metadata": {
  "accelerator": "GPU",
  "colab": {
   "gpuType": "T4",
   "provenance": [],
   "toc_visible": true
  },
  "kernelspec": {
   "display_name": "flowers_env",
   "language": "python",
   "name": "python3"
  },
  "language_info": {
   "codemirror_mode": {
    "name": "ipython",
    "version": 3
   },
   "file_extension": ".py",
   "mimetype": "text/x-python",
   "name": "python",
   "nbconvert_exporter": "python",
   "pygments_lexer": "ipython3",
   "version": "3.12.7"
  }
 },
 "nbformat": 4,
 "nbformat_minor": 0
}
